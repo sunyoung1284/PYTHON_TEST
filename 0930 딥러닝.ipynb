{
 "cells": [
  {
   "cell_type": "code",
   "execution_count": 1,
   "metadata": {},
   "outputs": [
    {
     "name": "stderr",
     "output_type": "stream",
     "text": [
      "C:\\Users\\SMART-14\\Anaconda3\\lib\\site-packages\\h5py\\__init__.py:36: FutureWarning: Conversion of the second argument of issubdtype from `float` to `np.floating` is deprecated. In future, it will be treated as `np.float64 == np.dtype(float).type`.\n",
      "  from ._conv import register_converters as _register_converters\n",
      "Using TensorFlow backend.\n"
     ]
    }
   ],
   "source": [
    "#라이브러리 정의 import tensorflow.kera s\n",
    "import keras\n",
    "from keras import layers\n",
    "import numpy as np\n",
    "import pandas as pd"
   ]
  },
  {
   "cell_type": "code",
   "execution_count": 2,
   "metadata": {
    "scrolled": true
   },
   "outputs": [
    {
     "data": {
      "text/plain": [
       "REGIONID         object\n",
       "PRODUCTGROUP     object\n",
       "PRODUCT          object\n",
       "ITEM             object\n",
       "YEARWEEK          int64\n",
       "YEAR              int64\n",
       "WEEK              int64\n",
       "QTY               int64\n",
       "HOLIDAY          object\n",
       "HCLUS             int64\n",
       "PROMOTION        object\n",
       "PRO_PERCENT     float64\n",
       "dtype: object"
      ]
     },
     "execution_count": 2,
     "metadata": {},
     "output_type": "execute_result"
    }
   ],
   "source": [
    "selloutData=pd.read_csv(\"./dataset/kopo_decision_tree_all_new.csv\")\n",
    "selloutData.dtypes"
   ]
  },
  {
   "cell_type": "code",
   "execution_count": 3,
   "metadata": {},
   "outputs": [],
   "source": [
    "groupKey=[\"REGIONID\",\"PRODUCTGROUP\",\"PRODUCT\",\"ITEM\"]"
   ]
  },
  {
   "cell_type": "code",
   "execution_count": 4,
   "metadata": {},
   "outputs": [],
   "source": [
    "groupData=selloutData.groupby(groupKey)[\"YEARWEEK\"].agg([\"size\"]).reset_index()"
   ]
  },
  {
   "cell_type": "code",
   "execution_count": 5,
   "metadata": {},
   "outputs": [
    {
     "data": {
      "text/html": [
       "<div>\n",
       "<style scoped>\n",
       "    .dataframe tbody tr th:only-of-type {\n",
       "        vertical-align: middle;\n",
       "    }\n",
       "\n",
       "    .dataframe tbody tr th {\n",
       "        vertical-align: top;\n",
       "    }\n",
       "\n",
       "    .dataframe thead th {\n",
       "        text-align: right;\n",
       "    }\n",
       "</style>\n",
       "<table border=\"1\" class=\"dataframe\">\n",
       "  <thead>\n",
       "    <tr style=\"text-align: right;\">\n",
       "      <th></th>\n",
       "      <th>REGIONID</th>\n",
       "      <th>PRODUCTGROUP</th>\n",
       "      <th>PRODUCT</th>\n",
       "      <th>ITEM</th>\n",
       "      <th>KNOB</th>\n",
       "    </tr>\n",
       "  </thead>\n",
       "  <tbody>\n",
       "    <tr>\n",
       "      <th>0</th>\n",
       "      <td>A01</td>\n",
       "      <td>PG01</td>\n",
       "      <td>P01</td>\n",
       "      <td>ITEM001</td>\n",
       "      <td>3</td>\n",
       "    </tr>\n",
       "    <tr>\n",
       "      <th>1</th>\n",
       "      <td>A01</td>\n",
       "      <td>PG01</td>\n",
       "      <td>P01</td>\n",
       "      <td>ITEM002</td>\n",
       "      <td>2</td>\n",
       "    </tr>\n",
       "    <tr>\n",
       "      <th>2</th>\n",
       "      <td>A01</td>\n",
       "      <td>PG01</td>\n",
       "      <td>P01</td>\n",
       "      <td>ITEM003</td>\n",
       "      <td>1</td>\n",
       "    </tr>\n",
       "    <tr>\n",
       "      <th>3</th>\n",
       "      <td>A01</td>\n",
       "      <td>PG01</td>\n",
       "      <td>P01</td>\n",
       "      <td>ITEM004</td>\n",
       "      <td>7</td>\n",
       "    </tr>\n",
       "    <tr>\n",
       "      <th>4</th>\n",
       "      <td>A01</td>\n",
       "      <td>PG01</td>\n",
       "      <td>P01</td>\n",
       "      <td>ITEM005</td>\n",
       "      <td>8</td>\n",
       "    </tr>\n",
       "  </tbody>\n",
       "</table>\n",
       "</div>"
      ],
      "text/plain": [
       "  REGIONID PRODUCTGROUP PRODUCT     ITEM  KNOB\n",
       "0      A01         PG01     P01  ITEM001     3\n",
       "1      A01         PG01     P01  ITEM002     2\n",
       "2      A01         PG01     P01  ITEM003     1\n",
       "3      A01         PG01     P01  ITEM004     7\n",
       "4      A01         PG01     P01  ITEM005     8"
      ]
     },
     "execution_count": 5,
     "metadata": {},
     "output_type": "execute_result"
    }
   ],
   "source": [
    "groupData.rename(columns={\"size\":\"KNOB\"},inplace=True)\n",
    "groupData.head()"
   ]
  },
  {
   "cell_type": "code",
   "execution_count": 6,
   "metadata": {},
   "outputs": [
    {
     "data": {
      "text/html": [
       "<div>\n",
       "<style scoped>\n",
       "    .dataframe tbody tr th:only-of-type {\n",
       "        vertical-align: middle;\n",
       "    }\n",
       "\n",
       "    .dataframe tbody tr th {\n",
       "        vertical-align: top;\n",
       "    }\n",
       "\n",
       "    .dataframe thead th {\n",
       "        text-align: right;\n",
       "    }\n",
       "</style>\n",
       "<table border=\"1\" class=\"dataframe\">\n",
       "  <thead>\n",
       "    <tr style=\"text-align: right;\">\n",
       "      <th></th>\n",
       "      <th>REGIONID</th>\n",
       "      <th>PRODUCTGROUP</th>\n",
       "      <th>PRODUCT</th>\n",
       "      <th>ITEM</th>\n",
       "      <th>YEARWEEK</th>\n",
       "      <th>YEAR</th>\n",
       "      <th>WEEK</th>\n",
       "      <th>QTY</th>\n",
       "      <th>HOLIDAY</th>\n",
       "      <th>HCLUS</th>\n",
       "      <th>PROMOTION</th>\n",
       "      <th>PRO_PERCENT</th>\n",
       "      <th>KNOB</th>\n",
       "    </tr>\n",
       "  </thead>\n",
       "  <tbody>\n",
       "    <tr>\n",
       "      <th>0</th>\n",
       "      <td>A01</td>\n",
       "      <td>PG01</td>\n",
       "      <td>P01</td>\n",
       "      <td>ITEM001</td>\n",
       "      <td>201538</td>\n",
       "      <td>2015</td>\n",
       "      <td>38</td>\n",
       "      <td>1</td>\n",
       "      <td>N</td>\n",
       "      <td>4</td>\n",
       "      <td>N</td>\n",
       "      <td>0.0</td>\n",
       "      <td>3</td>\n",
       "    </tr>\n",
       "    <tr>\n",
       "      <th>1</th>\n",
       "      <td>A01</td>\n",
       "      <td>PG01</td>\n",
       "      <td>P01</td>\n",
       "      <td>ITEM001</td>\n",
       "      <td>201548</td>\n",
       "      <td>2015</td>\n",
       "      <td>48</td>\n",
       "      <td>1</td>\n",
       "      <td>Y</td>\n",
       "      <td>0</td>\n",
       "      <td>N</td>\n",
       "      <td>0.0</td>\n",
       "      <td>3</td>\n",
       "    </tr>\n",
       "    <tr>\n",
       "      <th>2</th>\n",
       "      <td>A01</td>\n",
       "      <td>PG01</td>\n",
       "      <td>P01</td>\n",
       "      <td>ITEM001</td>\n",
       "      <td>201549</td>\n",
       "      <td>2015</td>\n",
       "      <td>49</td>\n",
       "      <td>2</td>\n",
       "      <td>Y</td>\n",
       "      <td>0</td>\n",
       "      <td>N</td>\n",
       "      <td>0.0</td>\n",
       "      <td>3</td>\n",
       "    </tr>\n",
       "    <tr>\n",
       "      <th>3</th>\n",
       "      <td>A01</td>\n",
       "      <td>PG01</td>\n",
       "      <td>P01</td>\n",
       "      <td>ITEM002</td>\n",
       "      <td>201526</td>\n",
       "      <td>2015</td>\n",
       "      <td>26</td>\n",
       "      <td>1</td>\n",
       "      <td>Y</td>\n",
       "      <td>1</td>\n",
       "      <td>N</td>\n",
       "      <td>0.0</td>\n",
       "      <td>2</td>\n",
       "    </tr>\n",
       "    <tr>\n",
       "      <th>4</th>\n",
       "      <td>A01</td>\n",
       "      <td>PG01</td>\n",
       "      <td>P01</td>\n",
       "      <td>ITEM002</td>\n",
       "      <td>201532</td>\n",
       "      <td>2015</td>\n",
       "      <td>32</td>\n",
       "      <td>1</td>\n",
       "      <td>N</td>\n",
       "      <td>4</td>\n",
       "      <td>N</td>\n",
       "      <td>0.0</td>\n",
       "      <td>2</td>\n",
       "    </tr>\n",
       "  </tbody>\n",
       "</table>\n",
       "</div>"
      ],
      "text/plain": [
       "  REGIONID PRODUCTGROUP PRODUCT     ITEM  YEARWEEK  YEAR  WEEK  QTY HOLIDAY  \\\n",
       "0      A01         PG01     P01  ITEM001    201538  2015    38    1       N   \n",
       "1      A01         PG01     P01  ITEM001    201548  2015    48    1       Y   \n",
       "2      A01         PG01     P01  ITEM001    201549  2015    49    2       Y   \n",
       "3      A01         PG01     P01  ITEM002    201526  2015    26    1       Y   \n",
       "4      A01         PG01     P01  ITEM002    201532  2015    32    1       N   \n",
       "\n",
       "   HCLUS PROMOTION  PRO_PERCENT  KNOB  \n",
       "0      4         N          0.0     3  \n",
       "1      0         N          0.0     3  \n",
       "2      0         N          0.0     3  \n",
       "3      1         N          0.0     2  \n",
       "4      4         N          0.0     2  "
      ]
     },
     "execution_count": 6,
     "metadata": {},
     "output_type": "execute_result"
    }
   ],
   "source": [
    "cleansedData=pd.merge(left = selloutData,right = groupData,on = groupKey,how=\"left\")    ##기본키로 조인\n",
    "cleansedData.head()"
   ]
  },
  {
   "cell_type": "code",
   "execution_count": 7,
   "metadata": {},
   "outputs": [
    {
     "data": {
      "text/plain": [
       "146"
      ]
     },
     "execution_count": 7,
     "metadata": {},
     "output_type": "execute_result"
    }
   ],
   "source": [
    "MAXKNOB=cleansedData.KNOB.max()\n",
    "MAXKNOB"
   ]
  },
  {
   "cell_type": "code",
   "execution_count": 8,
   "metadata": {
    "scrolled": true
   },
   "outputs": [
    {
     "data": {
      "text/html": [
       "<div>\n",
       "<style scoped>\n",
       "    .dataframe tbody tr th:only-of-type {\n",
       "        vertical-align: middle;\n",
       "    }\n",
       "\n",
       "    .dataframe tbody tr th {\n",
       "        vertical-align: top;\n",
       "    }\n",
       "\n",
       "    .dataframe thead th {\n",
       "        text-align: right;\n",
       "    }\n",
       "</style>\n",
       "<table border=\"1\" class=\"dataframe\">\n",
       "  <thead>\n",
       "    <tr style=\"text-align: right;\">\n",
       "      <th></th>\n",
       "      <th>REGIONID</th>\n",
       "      <th>PRODUCTGROUP</th>\n",
       "      <th>PRODUCT</th>\n",
       "      <th>ITEM</th>\n",
       "      <th>YEARWEEK</th>\n",
       "      <th>YEAR</th>\n",
       "      <th>WEEK</th>\n",
       "      <th>QTY</th>\n",
       "      <th>HOLIDAY</th>\n",
       "      <th>HCLUS</th>\n",
       "      <th>PROMOTION</th>\n",
       "      <th>PRO_PERCENT</th>\n",
       "      <th>KNOB</th>\n",
       "    </tr>\n",
       "  </thead>\n",
       "  <tbody>\n",
       "    <tr>\n",
       "      <th>2352</th>\n",
       "      <td>A01</td>\n",
       "      <td>PG02</td>\n",
       "      <td>P03</td>\n",
       "      <td>ITEM043</td>\n",
       "      <td>201501</td>\n",
       "      <td>2015</td>\n",
       "      <td>1</td>\n",
       "      <td>87</td>\n",
       "      <td>Y</td>\n",
       "      <td>1</td>\n",
       "      <td>Y</td>\n",
       "      <td>0.197590</td>\n",
       "      <td>146</td>\n",
       "    </tr>\n",
       "    <tr>\n",
       "      <th>2353</th>\n",
       "      <td>A01</td>\n",
       "      <td>PG02</td>\n",
       "      <td>P03</td>\n",
       "      <td>ITEM043</td>\n",
       "      <td>201502</td>\n",
       "      <td>2015</td>\n",
       "      <td>2</td>\n",
       "      <td>60</td>\n",
       "      <td>N</td>\n",
       "      <td>4</td>\n",
       "      <td>Y</td>\n",
       "      <td>0.197590</td>\n",
       "      <td>146</td>\n",
       "    </tr>\n",
       "    <tr>\n",
       "      <th>2354</th>\n",
       "      <td>A01</td>\n",
       "      <td>PG02</td>\n",
       "      <td>P03</td>\n",
       "      <td>ITEM043</td>\n",
       "      <td>201503</td>\n",
       "      <td>2015</td>\n",
       "      <td>3</td>\n",
       "      <td>51</td>\n",
       "      <td>N</td>\n",
       "      <td>4</td>\n",
       "      <td>N</td>\n",
       "      <td>0.000000</td>\n",
       "      <td>146</td>\n",
       "    </tr>\n",
       "    <tr>\n",
       "      <th>2355</th>\n",
       "      <td>A01</td>\n",
       "      <td>PG02</td>\n",
       "      <td>P03</td>\n",
       "      <td>ITEM043</td>\n",
       "      <td>201504</td>\n",
       "      <td>2015</td>\n",
       "      <td>4</td>\n",
       "      <td>37</td>\n",
       "      <td>Y</td>\n",
       "      <td>2</td>\n",
       "      <td>N</td>\n",
       "      <td>0.000000</td>\n",
       "      <td>146</td>\n",
       "    </tr>\n",
       "    <tr>\n",
       "      <th>2356</th>\n",
       "      <td>A01</td>\n",
       "      <td>PG02</td>\n",
       "      <td>P03</td>\n",
       "      <td>ITEM043</td>\n",
       "      <td>201505</td>\n",
       "      <td>2015</td>\n",
       "      <td>5</td>\n",
       "      <td>136</td>\n",
       "      <td>N</td>\n",
       "      <td>4</td>\n",
       "      <td>Y</td>\n",
       "      <td>0.201205</td>\n",
       "      <td>146</td>\n",
       "    </tr>\n",
       "  </tbody>\n",
       "</table>\n",
       "</div>"
      ],
      "text/plain": [
       "     REGIONID PRODUCTGROUP PRODUCT     ITEM  YEARWEEK  YEAR  WEEK  QTY  \\\n",
       "2352      A01         PG02     P03  ITEM043    201501  2015     1   87   \n",
       "2353      A01         PG02     P03  ITEM043    201502  2015     2   60   \n",
       "2354      A01         PG02     P03  ITEM043    201503  2015     3   51   \n",
       "2355      A01         PG02     P03  ITEM043    201504  2015     4   37   \n",
       "2356      A01         PG02     P03  ITEM043    201505  2015     5  136   \n",
       "\n",
       "     HOLIDAY  HCLUS PROMOTION  PRO_PERCENT  KNOB  \n",
       "2352       Y      1         Y     0.197590   146  \n",
       "2353       N      4         Y     0.197590   146  \n",
       "2354       N      4         N     0.000000   146  \n",
       "2355       Y      2         N     0.000000   146  \n",
       "2356       N      4         Y     0.201205   146  "
      ]
     },
     "execution_count": 8,
     "metadata": {},
     "output_type": "execute_result"
    }
   ],
   "source": [
    "cleansedData=cleansedData[cleansedData.KNOB >= MAXKNOB]\n",
    "cleansedData.head()"
   ]
  },
  {
   "cell_type": "code",
   "execution_count": 9,
   "metadata": {},
   "outputs": [
    {
     "data": {
      "text/plain": [
       "52"
      ]
     },
     "execution_count": 9,
     "metadata": {},
     "output_type": "execute_result"
    }
   ],
   "source": [
    "len(cleansedData.ITEM.unique())"
   ]
  },
  {
   "cell_type": "code",
   "execution_count": 10,
   "metadata": {},
   "outputs": [
    {
     "data": {
      "text/html": [
       "<div>\n",
       "<style scoped>\n",
       "    .dataframe tbody tr th:only-of-type {\n",
       "        vertical-align: middle;\n",
       "    }\n",
       "\n",
       "    .dataframe tbody tr th {\n",
       "        vertical-align: top;\n",
       "    }\n",
       "\n",
       "    .dataframe thead th {\n",
       "        text-align: right;\n",
       "    }\n",
       "</style>\n",
       "<table border=\"1\" class=\"dataframe\">\n",
       "  <thead>\n",
       "    <tr style=\"text-align: right;\">\n",
       "      <th></th>\n",
       "      <th>REGIONID</th>\n",
       "      <th>PRODUCTGROUP</th>\n",
       "      <th>PRODUCT</th>\n",
       "      <th>ITEM</th>\n",
       "      <th>YEARWEEK</th>\n",
       "      <th>YEAR</th>\n",
       "      <th>WEEK</th>\n",
       "      <th>QTY</th>\n",
       "      <th>HOLIDAY</th>\n",
       "      <th>HCLUS</th>\n",
       "      <th>PROMOTION</th>\n",
       "      <th>PRO_PERCENT</th>\n",
       "      <th>KNOB</th>\n",
       "    </tr>\n",
       "  </thead>\n",
       "  <tbody>\n",
       "    <tr>\n",
       "      <th>0</th>\n",
       "      <td>A01</td>\n",
       "      <td>PG02</td>\n",
       "      <td>P03</td>\n",
       "      <td>ITEM043</td>\n",
       "      <td>201501</td>\n",
       "      <td>2015</td>\n",
       "      <td>1</td>\n",
       "      <td>87</td>\n",
       "      <td>Y</td>\n",
       "      <td>1</td>\n",
       "      <td>Y</td>\n",
       "      <td>0.197590</td>\n",
       "      <td>146</td>\n",
       "    </tr>\n",
       "    <tr>\n",
       "      <th>1</th>\n",
       "      <td>A01</td>\n",
       "      <td>PG02</td>\n",
       "      <td>P03</td>\n",
       "      <td>ITEM043</td>\n",
       "      <td>201502</td>\n",
       "      <td>2015</td>\n",
       "      <td>2</td>\n",
       "      <td>60</td>\n",
       "      <td>N</td>\n",
       "      <td>4</td>\n",
       "      <td>Y</td>\n",
       "      <td>0.197590</td>\n",
       "      <td>146</td>\n",
       "    </tr>\n",
       "    <tr>\n",
       "      <th>2</th>\n",
       "      <td>A01</td>\n",
       "      <td>PG02</td>\n",
       "      <td>P03</td>\n",
       "      <td>ITEM043</td>\n",
       "      <td>201503</td>\n",
       "      <td>2015</td>\n",
       "      <td>3</td>\n",
       "      <td>51</td>\n",
       "      <td>N</td>\n",
       "      <td>4</td>\n",
       "      <td>N</td>\n",
       "      <td>0.000000</td>\n",
       "      <td>146</td>\n",
       "    </tr>\n",
       "    <tr>\n",
       "      <th>3</th>\n",
       "      <td>A01</td>\n",
       "      <td>PG02</td>\n",
       "      <td>P03</td>\n",
       "      <td>ITEM043</td>\n",
       "      <td>201504</td>\n",
       "      <td>2015</td>\n",
       "      <td>4</td>\n",
       "      <td>37</td>\n",
       "      <td>Y</td>\n",
       "      <td>2</td>\n",
       "      <td>N</td>\n",
       "      <td>0.000000</td>\n",
       "      <td>146</td>\n",
       "    </tr>\n",
       "    <tr>\n",
       "      <th>4</th>\n",
       "      <td>A01</td>\n",
       "      <td>PG02</td>\n",
       "      <td>P03</td>\n",
       "      <td>ITEM043</td>\n",
       "      <td>201505</td>\n",
       "      <td>2015</td>\n",
       "      <td>5</td>\n",
       "      <td>136</td>\n",
       "      <td>N</td>\n",
       "      <td>4</td>\n",
       "      <td>Y</td>\n",
       "      <td>0.201205</td>\n",
       "      <td>146</td>\n",
       "    </tr>\n",
       "  </tbody>\n",
       "</table>\n",
       "</div>"
      ],
      "text/plain": [
       "  REGIONID PRODUCTGROUP PRODUCT     ITEM  YEARWEEK  YEAR  WEEK  QTY HOLIDAY  \\\n",
       "0      A01         PG02     P03  ITEM043    201501  2015     1   87       Y   \n",
       "1      A01         PG02     P03  ITEM043    201502  2015     2   60       N   \n",
       "2      A01         PG02     P03  ITEM043    201503  2015     3   51       N   \n",
       "3      A01         PG02     P03  ITEM043    201504  2015     4   37       Y   \n",
       "4      A01         PG02     P03  ITEM043    201505  2015     5  136       N   \n",
       "\n",
       "   HCLUS PROMOTION  PRO_PERCENT  KNOB  \n",
       "0      1         Y     0.197590   146  \n",
       "1      4         Y     0.197590   146  \n",
       "2      4         N     0.000000   146  \n",
       "3      2         N     0.000000   146  \n",
       "4      4         Y     0.201205   146  "
      ]
     },
     "execution_count": 10,
     "metadata": {},
     "output_type": "execute_result"
    }
   ],
   "source": [
    "#데이터 불러오기 및 정렬\n",
    "sortKey = [\"REGIONID\",\"PRODUCTGROUP\",\"PRODUCT\",\"ITEM\",\"YEARWEEK\"]\n",
    "featureData = cleansedData.sort_values(sortKey).reset_index(drop=True)\n",
    "featureData.head()"
   ]
  },
  {
   "cell_type": "code",
   "execution_count": 11,
   "metadata": {},
   "outputs": [
    {
     "data": {
      "text/html": [
       "<div>\n",
       "<style scoped>\n",
       "    .dataframe tbody tr th:only-of-type {\n",
       "        vertical-align: middle;\n",
       "    }\n",
       "\n",
       "    .dataframe tbody tr th {\n",
       "        vertical-align: top;\n",
       "    }\n",
       "\n",
       "    .dataframe thead th {\n",
       "        text-align: right;\n",
       "    }\n",
       "</style>\n",
       "<table border=\"1\" class=\"dataframe\">\n",
       "  <thead>\n",
       "    <tr style=\"text-align: right;\">\n",
       "      <th></th>\n",
       "      <th>REGIONID</th>\n",
       "      <th>PRODUCTGROUP</th>\n",
       "      <th>PRODUCT</th>\n",
       "      <th>ITEM</th>\n",
       "      <th>YEARWEEK</th>\n",
       "      <th>YEAR</th>\n",
       "      <th>WEEK</th>\n",
       "      <th>QTY</th>\n",
       "      <th>HOLIDAY</th>\n",
       "      <th>HCLUS</th>\n",
       "      <th>PROMOTION</th>\n",
       "      <th>PRO_PERCENT</th>\n",
       "      <th>KNOB</th>\n",
       "      <th>HOLIDAY_YN</th>\n",
       "      <th>PROMOTION_YN</th>\n",
       "    </tr>\n",
       "  </thead>\n",
       "  <tbody>\n",
       "    <tr>\n",
       "      <th>0</th>\n",
       "      <td>A01</td>\n",
       "      <td>PG02</td>\n",
       "      <td>P03</td>\n",
       "      <td>ITEM043</td>\n",
       "      <td>201501</td>\n",
       "      <td>2015</td>\n",
       "      <td>1</td>\n",
       "      <td>87</td>\n",
       "      <td>Y</td>\n",
       "      <td>1</td>\n",
       "      <td>Y</td>\n",
       "      <td>0.197590</td>\n",
       "      <td>146</td>\n",
       "      <td>1</td>\n",
       "      <td>1</td>\n",
       "    </tr>\n",
       "    <tr>\n",
       "      <th>1</th>\n",
       "      <td>A01</td>\n",
       "      <td>PG02</td>\n",
       "      <td>P03</td>\n",
       "      <td>ITEM043</td>\n",
       "      <td>201502</td>\n",
       "      <td>2015</td>\n",
       "      <td>2</td>\n",
       "      <td>60</td>\n",
       "      <td>N</td>\n",
       "      <td>4</td>\n",
       "      <td>Y</td>\n",
       "      <td>0.197590</td>\n",
       "      <td>146</td>\n",
       "      <td>0</td>\n",
       "      <td>1</td>\n",
       "    </tr>\n",
       "    <tr>\n",
       "      <th>2</th>\n",
       "      <td>A01</td>\n",
       "      <td>PG02</td>\n",
       "      <td>P03</td>\n",
       "      <td>ITEM043</td>\n",
       "      <td>201503</td>\n",
       "      <td>2015</td>\n",
       "      <td>3</td>\n",
       "      <td>51</td>\n",
       "      <td>N</td>\n",
       "      <td>4</td>\n",
       "      <td>N</td>\n",
       "      <td>0.000000</td>\n",
       "      <td>146</td>\n",
       "      <td>0</td>\n",
       "      <td>0</td>\n",
       "    </tr>\n",
       "    <tr>\n",
       "      <th>3</th>\n",
       "      <td>A01</td>\n",
       "      <td>PG02</td>\n",
       "      <td>P03</td>\n",
       "      <td>ITEM043</td>\n",
       "      <td>201504</td>\n",
       "      <td>2015</td>\n",
       "      <td>4</td>\n",
       "      <td>37</td>\n",
       "      <td>Y</td>\n",
       "      <td>2</td>\n",
       "      <td>N</td>\n",
       "      <td>0.000000</td>\n",
       "      <td>146</td>\n",
       "      <td>1</td>\n",
       "      <td>0</td>\n",
       "    </tr>\n",
       "    <tr>\n",
       "      <th>4</th>\n",
       "      <td>A01</td>\n",
       "      <td>PG02</td>\n",
       "      <td>P03</td>\n",
       "      <td>ITEM043</td>\n",
       "      <td>201505</td>\n",
       "      <td>2015</td>\n",
       "      <td>5</td>\n",
       "      <td>136</td>\n",
       "      <td>N</td>\n",
       "      <td>4</td>\n",
       "      <td>Y</td>\n",
       "      <td>0.201205</td>\n",
       "      <td>146</td>\n",
       "      <td>0</td>\n",
       "      <td>1</td>\n",
       "    </tr>\n",
       "  </tbody>\n",
       "</table>\n",
       "</div>"
      ],
      "text/plain": [
       "  REGIONID PRODUCTGROUP PRODUCT     ITEM  YEARWEEK  YEAR  WEEK  QTY HOLIDAY  \\\n",
       "0      A01         PG02     P03  ITEM043    201501  2015     1   87       Y   \n",
       "1      A01         PG02     P03  ITEM043    201502  2015     2   60       N   \n",
       "2      A01         PG02     P03  ITEM043    201503  2015     3   51       N   \n",
       "3      A01         PG02     P03  ITEM043    201504  2015     4   37       Y   \n",
       "4      A01         PG02     P03  ITEM043    201505  2015     5  136       N   \n",
       "\n",
       "   HCLUS PROMOTION  PRO_PERCENT  KNOB  HOLIDAY_YN  PROMOTION_YN  \n",
       "0      1         Y     0.197590   146           1             1  \n",
       "1      4         Y     0.197590   146           0             1  \n",
       "2      4         N     0.000000   146           0             0  \n",
       "3      2         N     0.000000   146           1             0  \n",
       "4      4         Y     0.201205   146           0             1  "
      ]
     },
     "execution_count": 11,
     "metadata": {},
     "output_type": "execute_result"
    }
   ],
   "source": [
    "#숫자형 컬럼 생성\n",
    "featureData[\"HOLIDAY_YN\"] = np.where(featureData.HOLIDAY==\"Y\",1,0)\n",
    "featureData[\"PROMOTION_YN\"] = np.where(featureData.PROMOTION==\"Y\",1,0)\n",
    "featureData.head()"
   ]
  },
  {
   "cell_type": "code",
   "execution_count": 12,
   "metadata": {},
   "outputs": [],
   "source": [
    "# #sklearn\n",
    "# from sklearn.preprocessing import LabelEncoder\n",
    "# le_pro = LabelEncoder()\n",
    "# le_holy =LabelEncoder()\n",
    "# featureData['ITEM_ENCO']= le_pro.fit_transform(featureData.ITEM)\n",
    "# featureData.head()"
   ]
  },
  {
   "cell_type": "code",
   "execution_count": 13,
   "metadata": {},
   "outputs": [],
   "source": [
    "# # 특정 주차 기준 분리(8:2)\n",
    "# indexStd = round(len(featureData)*0.8)\n",
    "# featureData.iloc[0:indexStd,:]\n",
    "# yearweekStd = featureData.YEARWEEK[indexStd]\n",
    "yearweekStd=201701"
   ]
  },
  {
   "cell_type": "code",
   "execution_count": 14,
   "metadata": {},
   "outputs": [],
   "source": [
    "groupData=featureData.groupby(groupKey)"
   ]
  },
  {
   "cell_type": "code",
   "execution_count": null,
   "metadata": {},
   "outputs": [],
   "source": [
    "onegroup = groupData.get_group( list(groupData.groups)[2] )\n",
    "eachgroup = onegroup.reset_index(drop=True)\n",
    "\n",
    "train_dataset = groupData[groupData.YEARWEEK <= yearweekStd]\n",
    "test_dataset = groupData[groupData.YEARWEEK > yearweekStd]"
   ]
  },
  {
   "cell_type": "code",
   "execution_count": null,
   "metadata": {},
   "outputs": [],
   "source": [
    "# 인덱스 초기화\n",
    "train_dataset = train_dataset.reset_index(drop=True)\n",
    "test_dataset = test_dataset.reset_index(drop=True)"
   ]
  },
  {
   "cell_type": "code",
   "execution_count": null,
   "metadata": {},
   "outputs": [],
   "source": [
    "# 답지 별도 분리\n",
    "train_labels = train_dataset[\"QTY\"]\n",
    "test_labels = test_dataset[\"QTY\"]"
   ]
  },
  {
   "cell_type": "code",
   "execution_count": null,
   "metadata": {},
   "outputs": [],
   "source": [
    "corr_result = train_dataset.corr()\n",
    "corr_result\n",
    "\n",
    "#상관관계 계수 비율 선정\n",
    "featuresStd =0.6\n",
    "features_key = corr_result[ (abs(corr_result.QTY) >= 0.5) & (corr_result.QTY != 1)].index.tolist()\n",
    "features_key"
   ]
  },
  {
   "cell_type": "code",
   "execution_count": null,
   "metadata": {},
   "outputs": [],
   "source": [
    "###걍 내가 넣음!\n",
    "features_key= ['HCLUS']\n",
    "# features_key= ['HCLUS','ITEM_ENCO']\n",
    "# features_key= ['HCLUS', 'PRO_PERCENT', 'HOLIDAY_YN', 'PROMOTION_YN','ITEM_ENCO']"
   ]
  },
  {
   "cell_type": "code",
   "execution_count": null,
   "metadata": {},
   "outputs": [],
   "source": [
    "label_key = ['QTY']\n",
    "full_key = features_key+label_key\n",
    "full_key"
   ]
  },
  {
   "cell_type": "code",
   "execution_count": null,
   "metadata": {},
   "outputs": [],
   "source": [
    "def norm(x):\n",
    " return (x / x.max())\n",
    "normed_train_data = norm(train_dataset[features_key])\n",
    "normed_test_data = norm(test_dataset[features_key])"
   ]
  },
  {
   "cell_type": "code",
   "execution_count": null,
   "metadata": {},
   "outputs": [],
   "source": [
    "normed_train_data.head()"
   ]
  },
  {
   "cell_type": "code",
   "execution_count": null,
   "metadata": {},
   "outputs": [],
   "source": [
    "normed_test_data.head()"
   ]
  },
  {
   "cell_type": "code",
   "execution_count": null,
   "metadata": {},
   "outputs": [],
   "source": [
    "n_cols =len(features_key)\n",
    "n_cols"
   ]
  },
  {
   "cell_type": "code",
   "execution_count": null,
   "metadata": {},
   "outputs": [],
   "source": [
    "from keras import Sequential\n",
    "from keras.layers import Dense\n",
    "model = Sequential()\n",
    "model.add(Dense(64, activation='relu', input_shape=(n_cols,)))\n",
    "model.add(Dense(64, activation='relu'))\n",
    "model.add(Dense(1))"
   ]
  },
  {
   "cell_type": "code",
   "execution_count": null,
   "metadata": {},
   "outputs": [],
   "source": [
    "def build_model():\n",
    "    model = keras.Sequential([\n",
    "        layers.Dense(64, activation=\"relu\", input_shape=[len(features_key)]),\n",
    "        layers.Dense(64, activation=\"relu\"),\n",
    "        layers.Dense(1)\n",
    "    ])\n",
    "\n",
    "    optimizer = keras.optimizers.Adam()\n",
    "\n",
    "    model.compile(loss='mean_squared_error',optimizer=optimizer,metrics=['mean_absolute_error', 'mean_squared_error'])\n",
    "    return model"
   ]
  },
  {
   "cell_type": "code",
   "execution_count": null,
   "metadata": {},
   "outputs": [],
   "source": [
    "model = build_model()\n",
    "model.summary()"
   ]
  },
  {
   "cell_type": "code",
   "execution_count": 15,
   "metadata": {},
   "outputs": [],
   "source": [
    "from keras.callbacks import EarlyStopping\n",
    "#더이상 에러율이 향상되지 않을 시 정지한다 , 단 patience 옵션 유지 너무빨리 끝나는거 방지\n",
    "early_stopping_monitor = EarlyStopping(patience=50)\n",
    "EPOCHS = 2000\n",
    "#모델 훈련 훈련 검증을 80%, 20% 로 나눔\n",
    "history =model.fit(normed_train_data, train_labels, validation_split=0.2, epochs= EPOCHS,\n",
    "callbacks=[early_stopping_monitor])\n",
    "loss, mae, mse = model.evaluate(normed_test_data, test_labels, verbose=0)"
   ]
  },
  {
   "cell_type": "code",
   "execution_count": null,
   "metadata": {},
   "outputs": [],
   "source": [
    "import matplotlib.pyplot as plt\n",
    "%matplotlib inline\n",
    "plt.figure(figsize=(12,8))\n",
    "#훈련 데이터의 mse\n",
    "plt.plot(history.history['mean_squared_error'])\n",
    "#검증 데이터의 mse\n",
    "plt.plot(history.history['val_mean_squared_error'])\n",
    "plt.legend(['mse','val_mse'])\n",
    "plt.grid()"
   ]
  },
  {
   "cell_type": "code",
   "execution_count": null,
   "metadata": {},
   "outputs": [],
   "source": [
    "import math\n",
    "# loss,mae , rmse 결과 확인\n",
    "loss,mae,mse = model.evaluate(normed_test_data,test_labels,verbose=0)\n",
    "#mae 및 mse 결과 확인\n",
    "mae"
   ]
  },
  {
   "cell_type": "code",
   "execution_count": null,
   "metadata": {},
   "outputs": [],
   "source": [
    "math.sqrt(mse)"
   ]
  },
  {
   "cell_type": "code",
   "execution_count": null,
   "metadata": {},
   "outputs": [],
   "source": []
  },
  {
   "cell_type": "code",
   "execution_count": null,
   "metadata": {},
   "outputs": [],
   "source": []
  }
 ],
 "metadata": {
  "kernelspec": {
   "display_name": "Python 3",
   "language": "python",
   "name": "python3"
  },
  "language_info": {
   "codemirror_mode": {
    "name": "ipython",
    "version": 3
   },
   "file_extension": ".py",
   "mimetype": "text/x-python",
   "name": "python",
   "nbconvert_exporter": "python",
   "pygments_lexer": "ipython3",
   "version": "3.6.4"
  }
 },
 "nbformat": 4,
 "nbformat_minor": 2
}
