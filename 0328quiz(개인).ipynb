{
 "cells": [
  {
   "cell_type": "code",
   "execution_count": 38,
   "metadata": {},
   "outputs": [],
   "source": [
    "from isoweek import Week\n",
    "\n",
    "inputYearWeek=201720\n",
    "\n",
    "GapWeek=100\n",
    "\n",
    "inputYW=str(inputYearWeek)\n",
    "\n",
    "inputYear=inputYW[:4]\n",
    "\n",
    "\n",
    "inputWeek=inputYW[4:]\n",
    "\n",
    "\n",
    "inputGap=int(GapWeek)\n",
    "\n",
    "resultWeek=int(inputWeek)-inputGap\n",
    "\n",
    "if (resultWeek>0):\n",
    "    if (resultWeek<10):\n",
    "        answer = str(inputYear)+\"0\"+str(resultWeek)\n",
    "    else:\n",
    "        answer= str(inputYW)+str(resultWeek)\n",
    "\n",
    "else:\n",
    "    lastWeek=resultWeek\n",
    "    preyear=int(inputYear)\n",
    "    while(lastWeek<0):\n",
    "        preYear=int(preYear)-1\n",
    "        preWeek=Week.last_week_of_year(preYear).week\n",
    "        lastWeek=lastWeek+preWeek\n",
    "    if (lastWeek<10):\n",
    "        answer=str(preYear)+\"0\"+str(lastWeek)\n",
    "    else:\n",
    "        answer=str(preYear)+str(lastWeek)\n",
    "\n",
    "\n",
    "\n",
    "\n",
    "    "
   ]
  },
  {
   "cell_type": "code",
   "execution_count": 54,
   "metadata": {},
   "outputs": [],
   "source": [
    "def preWeek(inputYearWeek,GapWeek):\n",
    "    inputYW=str(inputYearWeek)\n",
    "    inputYear=inputYW[:4]\n",
    "    inputWeek=inputYW[4:]\n",
    "    inputGap=int(GapWeek)\n",
    "    resultWeek=int(inputWeek)-inputGap\n",
    "\n",
    "    if (resultWeek>0):\n",
    "        if (resultWeek<10):\n",
    "            answer = str(inputYear)+\"0\"+str(resultWeek)\n",
    "        else:\n",
    "            answer= str(inputYW)+str(resultWeek)\n",
    "\n",
    "    else:\n",
    "        lastWeek=resultWeek\n",
    "        preyear=int(inputYear)\n",
    "        while(lastWeek<1):\n",
    "            preyear = int(preyear)-1\n",
    "            preWeek=Week.last_week_of_year(preyear).week\n",
    "            lastWeek=lastWeek+preWeek\n",
    "        if (lastWeek<10):\n",
    "            answer=str(preyear)+\"0\"+str(lastWeek)\n",
    "        else:\n",
    "            answer=str(preyear)+str(lastWeek)\n",
    "\n",
    "    return answer\n",
    "\n",
    "\n",
    "        \n"
   ]
  },
  {
   "cell_type": "code",
   "execution_count": 55,
   "metadata": {
    "scrolled": false
   },
   "outputs": [
    {
     "data": {
      "text/plain": [
       "'201553'"
      ]
     },
     "execution_count": 55,
     "metadata": {},
     "output_type": "execute_result"
    }
   ],
   "source": [
    "preWeek(\"201952\",208)"
   ]
  },
  {
   "cell_type": "code",
   "execution_count": 56,
   "metadata": {},
   "outputs": [
    {
     "data": {
      "text/plain": [
       "'201852'"
      ]
     },
     "execution_count": 56,
     "metadata": {},
     "output_type": "execute_result"
    }
   ],
   "source": [
    "preWeek(\"201952\",52)"
   ]
  },
  {
   "cell_type": "code",
   "execution_count": 57,
   "metadata": {},
   "outputs": [
    {
     "data": {
      "text/plain": [
       "'200043'"
      ]
     },
     "execution_count": 57,
     "metadata": {},
     "output_type": "execute_result"
    }
   ],
   "source": [
    "preWeek(\"201952\",1000)"
   ]
  },
  {
   "cell_type": "code",
   "execution_count": 58,
   "metadata": {},
   "outputs": [
    {
     "data": {
      "text/plain": [
       "'20195210'"
      ]
     },
     "execution_count": 58,
     "metadata": {},
     "output_type": "execute_result"
    }
   ],
   "source": [
    "preWeek(\"201952\",42)"
   ]
  }
 ],
 "metadata": {
  "kernelspec": {
   "display_name": "Python 3",
   "language": "python",
   "name": "python3"
  },
  "language_info": {
   "codemirror_mode": {
    "name": "ipython",
    "version": 3
   },
   "file_extension": ".py",
   "mimetype": "text/x-python",
   "name": "python",
   "nbconvert_exporter": "python",
   "pygments_lexer": "ipython3",
   "version": "3.6.4"
  }
 },
 "nbformat": 4,
 "nbformat_minor": 2
}
