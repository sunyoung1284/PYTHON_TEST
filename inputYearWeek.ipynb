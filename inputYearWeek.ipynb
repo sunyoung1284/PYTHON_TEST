{
 "cells": [
  {
   "cell_type": "code",
   "execution_count": 1,
   "metadata": {},
   "outputs": [],
   "source": [
    "from isoweek import Week\n",
    "def preWeek (inputYearWeek, GapWeek):\n",
    "    inputYearWeek = str(inputYearWeek)\n",
    "    GapWeek = int(GapWeek)\n",
    "    step1YearPart = int(inputYearWeek[:4])\n",
    "    step1WeekPart = int(inputYearWeek[4:])\n",
    "    step2 = step1WeekPart - GapWeek\n",
    "    while(step2 <= 0):\n",
    "        step1YearPart -= 1\n",
    "        step2 += Week.last_week_of_year(step1YearPart).week\n",
    "    while(step2 > Week.last_week_of_year(step1YearPart).week):\n",
    "        step2 -= Week.last_week_of_year(step1YearPart).week\n",
    "        step1YearPart += 1\n",
    "    if(step2 < 10):\n",
    "        step3 = str(step1YearPart) + \"0\" + str(step2)\n",
    "    else:\n",
    "        step3 = str(step1YearPart) + str(step2)\n",
    "    return step3"
   ]
  },
  {
   "cell_type": "code",
   "execution_count": 3,
   "metadata": {},
   "outputs": [
    {
     "name": "stdout",
     "output_type": "stream",
     "text": [
      "2010 52\n",
      "2011 52\n",
      "2012 52\n",
      "2013 52\n",
      "2014 52\n",
      "2015 53\n",
      "2016 52\n",
      "2017 52\n",
      "2018 52\n",
      "2019 52\n",
      "2020 53\n",
      "2021 52\n",
      "2022 52\n",
      "2023 52\n",
      "2024 52\n",
      "2025 52\n",
      "2026 53\n",
      "2027 52\n",
      "2028 52\n",
      "2029 52\n",
      "2030 52\n"
     ]
    }
   ],
   "source": [
    "for i in range(2010, 2031):\n",
    "    print(i, Week.last_week_of_year(i).week)"
   ]
  },
  {
   "cell_type": "code",
   "execution_count": null,
   "metadata": {},
   "outputs": [],
   "source": []
  }
 ],
 "metadata": {
  "kernelspec": {
   "display_name": "Python 3",
   "language": "python",
   "name": "python3"
  },
  "language_info": {
   "codemirror_mode": {
    "name": "ipython",
    "version": 3
   },
   "file_extension": ".py",
   "mimetype": "text/x-python",
   "name": "python",
   "nbconvert_exporter": "python",
   "pygments_lexer": "ipython3",
   "version": "3.6.4"
  }
 },
 "nbformat": 4,
 "nbformat_minor": 2
}
