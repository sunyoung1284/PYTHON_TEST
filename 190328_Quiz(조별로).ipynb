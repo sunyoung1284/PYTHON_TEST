{
 "cells": [
  {
   "cell_type": "code",
   "execution_count": 4,
   "metadata": {},
   "outputs": [],
   "source": [
    "from isoweek import Week\n",
    "\n",
    "## 입력값\n",
    "inpYW=201720\n",
    "gapW=100\n",
    "\n",
    "\n",
    "inpYW = str(inpYW) ## 입력 연도주차 문자열 변환\n",
    "inpY=inpYW[0:4] ## 입력 연도 추출\n",
    "inpW=inpYW[4: ] ## 입력 주차 추출\n",
    "\n",
    "inpGap=int(gapW) ## 입력 갭 인트형 확정\n",
    "\n",
    "\n",
    "dif = int(inpW) - inpGap ## 입력 갭과 입력 주차의 차\n",
    "\n",
    "## if(dif > 0)\n",
    "\n",
    "if(dif>0):\n",
    "    if(dif<10):\n",
    "        answer = str(inpY) + \"0\" + str(dif)\n",
    "    else:\n",
    "        answer = str(inpY) + str(dif)\n",
    "else:\n",
    "    lastweek = dif\n",
    "    preyear = int(inpY)\n",
    "    while (lastweek < 0):\n",
    "        preyear = preyear - 1\n",
    "        preweek = Week.last_week_of_year(preyear).week\n",
    "        lastweek = lastweek + preweek\n",
    "    if(lastweek<10):\n",
    "        lastanswer =str(preyear)+\"0\"+str(lastweek)\n",
    "    else:\n",
    "        lastanswer = str(preyear) + str(lastweek)\n",
    "\n",
    "      "
   ]
  },
  {
   "cell_type": "code",
   "execution_count": 5,
   "metadata": {},
   "outputs": [
    {
     "data": {
      "text/plain": [
       "'201525'"
      ]
     },
     "execution_count": 5,
     "metadata": {},
     "output_type": "execute_result"
    }
   ],
   "source": [
    "lastanswer"
   ]
  },
  {
   "cell_type": "code",
   "execution_count": 6,
   "metadata": {},
   "outputs": [],
   "source": [
    "def preweek(inputYW, gapW):\n",
    "    inpYW = str(inputYW) ## 입력 연도주차 문자열 변환\n",
    "    inpY=inpYW[0:4] ## 입력 연도 추출\n",
    "    inpW=inpYW[4: ] ## 입력 주차 추출\n",
    "\n",
    "    inpGap=int(gapW) ## 입력 갭 인트형 확정\n",
    "\n",
    "    dif = int(inpW) - inpGap ## 입력 갭과 입력 주차의 차\n",
    "\n",
    "## if(dif > 0)\n",
    "\n",
    "\n",
    "    if(dif>0):\n",
    "        if(dif<10):\n",
    "            lastanswer = str(inpY) + \"0\" + str(dif)\n",
    "        else:\n",
    "            lastanswer = str(inpY) + str(dif)\n",
    "        \n",
    "    else:\n",
    "        lastweek = dif\n",
    "        preyear = int(inpY)\n",
    "        while (lastweek < 1):\n",
    "            preyear = preyear - 1\n",
    "            preweek = Week.last_week_of_year(preyear).week\n",
    "            lastweek = lastweek + preweek\n",
    "        if(lastweek<10):\n",
    "            lastanswer =str(preyear)+\"0\"+str(lastweek)\n",
    "        else:\n",
    "            lastanswer = str(preyear) + str(lastweek)\n",
    "    \n",
    "    return lastanswer"
   ]
  },
  {
   "cell_type": "code",
   "execution_count": 7,
   "metadata": {},
   "outputs": [
    {
     "data": {
      "text/plain": [
       "'201553'"
      ]
     },
     "execution_count": 7,
     "metadata": {},
     "output_type": "execute_result"
    }
   ],
   "source": [
    "preweek(\"201952\", 208)"
   ]
  },
  {
   "cell_type": "code",
   "execution_count": 24,
   "metadata": {},
   "outputs": [
    {
     "data": {
      "text/plain": [
       "'C:\\\\userGroup4'"
      ]
     },
     "execution_count": 24,
     "metadata": {},
     "output_type": "execute_result"
    }
   ],
   "source": []
  },
  {
   "cell_type": "code",
   "execution_count": null,
   "metadata": {},
   "outputs": [],
   "source": []
  },
  {
   "cell_type": "code",
   "execution_count": null,
   "metadata": {},
   "outputs": [],
   "source": []
  },
  {
   "cell_type": "code",
   "execution_count": null,
   "metadata": {},
   "outputs": [],
   "source": []
  }
 ],
 "metadata": {
  "kernelspec": {
   "display_name": "Python 3",
   "language": "python",
   "name": "python3"
  },
  "language_info": {
   "codemirror_mode": {
    "name": "ipython",
    "version": 3
   },
   "file_extension": ".py",
   "mimetype": "text/x-python",
   "name": "python",
   "nbconvert_exporter": "python",
   "pygments_lexer": "ipython3",
   "version": "3.6.4"
  }
 },
 "nbformat": 4,
 "nbformat_minor": 2
}
