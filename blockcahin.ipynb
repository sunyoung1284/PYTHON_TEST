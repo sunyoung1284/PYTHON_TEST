{
 "cells": [
  {
   "cell_type": "code",
   "execution_count": null,
   "metadata": {},
   "outputs": [],
   "source": [
    "import urllib"
   ]
  },
  {
   "cell_type": "code",
   "execution_count": null,
   "metadata": {},
   "outputs": [
    {
     "name": "stdout",
     "output_type": "stream",
     "text": [
      "[<class 'http.server.HTTPServer'>, <class 'socketserver.TCPServer'>, <class 'socketserver.BaseServer'>, <class 'object'>]\n",
      "Started httpserver on port  8027\n",
      "/login\n"
     ]
    },
    {
     "name": "stderr",
     "output_type": "stream",
     "text": [
      "127.0.0.1 - - [24/May/2019 18:43:00] \"GET /login HTTP/1.1\" 200 -\n"
     ]
    },
    {
     "name": "stdout",
     "output_type": "stream",
     "text": [
      "/name?name=\n",
      "name =  \n",
      "/name?name=\n",
      "name =  \n"
     ]
    },
    {
     "name": "stderr",
     "output_type": "stream",
     "text": [
      "127.0.0.1 - - [24/May/2019 18:43:04] \"GET /name?name= HTTP/1.1\" 200 -\n",
      "127.0.0.1 - - [24/May/2019 18:43:04] \"GET /name?name= HTTP/1.1\" 200 -\n"
     ]
    },
    {
     "name": "stdout",
     "output_type": "stream",
     "text": [
      "/name?name=\n",
      "name =  \n"
     ]
    },
    {
     "name": "stderr",
     "output_type": "stream",
     "text": [
      "127.0.0.1 - - [24/May/2019 18:43:05] \"GET /name?name= HTTP/1.1\" 200 -\n"
     ]
    },
    {
     "name": "stdout",
     "output_type": "stream",
     "text": [
      "/name?name=\n",
      "name =  \n"
     ]
    },
    {
     "name": "stderr",
     "output_type": "stream",
     "text": [
      "127.0.0.1 - - [24/May/2019 18:43:05] \"GET /name?name= HTTP/1.1\" 200 -\n"
     ]
    },
    {
     "name": "stdout",
     "output_type": "stream",
     "text": [
      "/name?name=dfdfdfdggdd\n",
      "name =  dfdfdfdggdd\n"
     ]
    },
    {
     "name": "stderr",
     "output_type": "stream",
     "text": [
      "127.0.0.1 - - [24/May/2019 18:43:34] \"GET /name?name=dfdfdfdggdd HTTP/1.1\" 200 -\n"
     ]
    },
    {
     "name": "stdout",
     "output_type": "stream",
     "text": [
      "/name?name=dfdfdfdggdd\n",
      "name =  dfdfdfdggdd\n"
     ]
    },
    {
     "name": "stderr",
     "output_type": "stream",
     "text": [
      "127.0.0.1 - - [24/May/2019 18:43:34] \"GET /name?name=dfdfdfdggdd HTTP/1.1\" 200 -\n"
     ]
    },
    {
     "name": "stdout",
     "output_type": "stream",
     "text": [
      "/login\n"
     ]
    },
    {
     "name": "stderr",
     "output_type": "stream",
     "text": [
      "127.0.0.1 - - [24/May/2019 19:23:37] \"GET /login HTTP/1.1\" 200 -\n"
     ]
    },
    {
     "name": "stdout",
     "output_type": "stream",
     "text": [
      "/?name=%E3%85%87%E3%84%B9%E3%85%87%E3%84%B9%E3%85%87%E3%85%8E\n",
      "/?name=%E3%85%87%E3%84%B9%E3%85%87%E3%84%B9%E3%85%87%E3%85%8E\n",
      "/?name=%E3%85%87%E3%84%B9%E3%85%87%E3%84%B9%E3%85%87%E3%85%8E\n",
      "/?name=%E3%85%87%E3%84%B9%E3%85%87%E3%84%B9%E3%85%87%E3%85%8E\n",
      "/login\n"
     ]
    },
    {
     "name": "stderr",
     "output_type": "stream",
     "text": [
      "127.0.0.1 - - [24/May/2019 19:24:07] \"GET /login HTTP/1.1\" 200 -\n"
     ]
    },
    {
     "name": "stdout",
     "output_type": "stream",
     "text": [
      "/name?name=%E3%85%87%E3%84%B9%E3%85%87%E3%84%B9%E3%85%87%E3%84%B9\n",
      "name =  %E3%85%87%E3%84%B9%E3%85%87%E3%84%B9%E3%85%87%E3%84%B9\n"
     ]
    },
    {
     "name": "stderr",
     "output_type": "stream",
     "text": [
      "127.0.0.1 - - [24/May/2019 19:24:09] \"GET /name?name=%E3%85%87%E3%84%B9%E3%85%87%E3%84%B9%E3%85%87%E3%84%B9 HTTP/1.1\" 200 -\n"
     ]
    },
    {
     "name": "stdout",
     "output_type": "stream",
     "text": [
      "/name?name=dssdsd\n",
      "name =  dssdsd\n"
     ]
    },
    {
     "name": "stderr",
     "output_type": "stream",
     "text": [
      "127.0.0.1 - - [24/May/2019 19:24:28] \"GET /name?name=dssdsd HTTP/1.1\" 200 -\n"
     ]
    },
    {
     "name": "stdout",
     "output_type": "stream",
     "text": [
      "/name?name=dssdsd\n",
      "name =  dssdsd\n"
     ]
    },
    {
     "name": "stderr",
     "output_type": "stream",
     "text": [
      "127.0.0.1 - - [24/May/2019 19:24:28] \"GET /name?name=dssdsd HTTP/1.1\" 200 -\n"
     ]
    },
    {
     "name": "stdout",
     "output_type": "stream",
     "text": [
      "/login\n"
     ]
    },
    {
     "name": "stderr",
     "output_type": "stream",
     "text": [
      "127.0.0.1 - - [24/May/2019 19:24:47] \"GET /login HTTP/1.1\" 200 -\n"
     ]
    },
    {
     "name": "stdout",
     "output_type": "stream",
     "text": [
      "/?name=dfdfdfd\n",
      "/?name=dfdfdfd\n",
      "/?name=dfdfdfd\n",
      "/?name=ssdsd\n",
      "/login\n"
     ]
    },
    {
     "name": "stderr",
     "output_type": "stream",
     "text": [
      "127.0.0.1 - - [24/May/2019 19:25:27] \"GET /login HTTP/1.1\" 200 -\n"
     ]
    },
    {
     "name": "stdout",
     "output_type": "stream",
     "text": [
      "/name?name=sssss\n",
      "name =  sssss\n",
      "/name?name=sssss\n",
      "name =  sssss\n"
     ]
    },
    {
     "name": "stderr",
     "output_type": "stream",
     "text": [
      "127.0.0.1 - - [24/May/2019 19:25:29] \"GET /name?name=sssss HTTP/1.1\" 200 -\n",
      "127.0.0.1 - - [24/May/2019 19:25:29] \"GET /name?name=sssss HTTP/1.1\" 200 -\n"
     ]
    },
    {
     "name": "stdout",
     "output_type": "stream",
     "text": [
      "/name?name=sssssdfdfd\n",
      "name =  sssssdfdfd\n"
     ]
    },
    {
     "name": "stderr",
     "output_type": "stream",
     "text": [
      "127.0.0.1 - - [24/May/2019 19:25:32] \"GET /name?name=sssssdfdfd HTTP/1.1\" 200 -\n"
     ]
    },
    {
     "name": "stdout",
     "output_type": "stream",
     "text": [
      "/name?name=tx\n",
      "name =  tx\n"
     ]
    },
    {
     "name": "stderr",
     "output_type": "stream",
     "text": [
      "127.0.0.1 - - [24/May/2019 19:25:44] \"GET /name?name=tx HTTP/1.1\" 200 -\n"
     ]
    },
    {
     "name": "stdout",
     "output_type": "stream",
     "text": [
      "/login\n"
     ]
    },
    {
     "name": "stderr",
     "output_type": "stream",
     "text": [
      "127.0.0.1 - - [24/May/2019 19:29:41] \"GET /login HTTP/1.1\" 200 -\n"
     ]
    },
    {
     "name": "stdout",
     "output_type": "stream",
     "text": [
      "/blockchainHome\n",
      "/blockchainHome\n",
      "/blockchainHome\n",
      "/blockchainHome\n"
     ]
    }
   ],
   "source": [
    "#!/usr/bin/python\n",
    "# from BaseHTTPServer import BaseHTTPRequestHandler,HTTPServer\n",
    "from http.server import BaseHTTPRequestHandler,HTTPServer\n",
    "from socketserver import ThreadingMixIn\n",
    "import json\n",
    "import re\n",
    "from urllib.parse import parse_qs\n",
    "import cgi\n",
    "import codecs\n",
    "\n",
    "PORT_NUMBER = 8027\n",
    "\n",
    "# This class will handle any incoming request from\n",
    "# a browser\n",
    "class myHandler(BaseHTTPRequestHandler):\n",
    "\n",
    "\n",
    "    # Handler for the GET requests\n",
    "    def do_GET(self):\n",
    "        print(self.path)\n",
    "        # print('Get request received')\n",
    "        if None != re.search('/name', self.path):\n",
    "            recordID = self.path.split('?')[-1]\n",
    "            name=recordID.split('=')[-1]\n",
    "            print(\"name = \", name)\n",
    "            if True :\n",
    "                self.send_response(200)\n",
    "                self.send_header('Content-type', 'text/html')\n",
    "                self.end_headers()\n",
    "                path = 'C:/Users/SMART-14/Desktop/임선영/0507/login.html'\n",
    "                f = codecs.open(path, 'r', encoding='utf-8').read()\n",
    "                self.wfile.write(bytes(f, 'utf-8'))\n",
    "                return\n",
    "            \n",
    "            else:\n",
    "                self.send_response(400, 'Bad Request: record does not exist')\n",
    "                self.send_header('Content-Type', 'application/json')\n",
    "                self.end_headers()\n",
    "                \n",
    "        if None != re.search('/login', self.path):\n",
    "            # recordID = self.path\n",
    "            # print(\"recordID = \", recordID)\n",
    "            if True :\n",
    "                self.send_response(200)\n",
    "                self.send_header('Content-type', 'text/html')\n",
    "                self.end_headers()\n",
    "                path = 'C:/Users/SMART-14/Desktop/임선영/0507/login.html'\n",
    "                f = codecs.open(path, 'r', encoding='utf-8').read()\n",
    "                self.wfile.write(bytes(f, 'utf-8'))\n",
    "                \n",
    "            else:\n",
    "                self.send_response(400, 'Bad Request: record does not exist')\n",
    "                self.send_header('Content-Type', 'application/json')\n",
    "                self.end_headers()\n",
    "\n",
    "\n",
    "try:\n",
    "\n",
    "    # Create a web server and define the handler to manage the\n",
    "    # incoming request\n",
    "    server = HTTPServer(('', PORT_NUMBER), myHandler)\n",
    "    print(HTTPServer.mro())\n",
    "    print ('Started httpserver on port ' , PORT_NUMBER)\n",
    "\n",
    "    # Wait forever for incoming http requests\n",
    "    server.serve_forever()\n",
    "\n",
    "except KeyboardInterrupt:\n",
    "    print ('^C received, shutting down the web server')\n",
    "    server.socket.close()\n"
   ]
  },
  {
   "cell_type": "code",
   "execution_count": null,
   "metadata": {},
   "outputs": [],
   "source": []
  }
 ],
 "metadata": {
  "kernelspec": {
   "display_name": "Python 3",
   "language": "python",
   "name": "python3"
  },
  "language_info": {
   "codemirror_mode": {
    "name": "ipython",
    "version": 3
   },
   "file_extension": ".py",
   "mimetype": "text/x-python",
   "name": "python",
   "nbconvert_exporter": "python",
   "pygments_lexer": "ipython3",
   "version": "3.6.4"
  }
 },
 "nbformat": 4,
 "nbformat_minor": 2
}
