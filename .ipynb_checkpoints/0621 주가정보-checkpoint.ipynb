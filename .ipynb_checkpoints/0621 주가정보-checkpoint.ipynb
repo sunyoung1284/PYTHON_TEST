{
 "cells": [
  {
   "cell_type": "code",
   "execution_count": 1,
   "metadata": {
    "scrolled": true
   },
   "outputs": [],
   "source": [
    "import FinanceDataReader as web\n",
    "from datetime import date, timedelta\n",
    "import matplotlib.pyplot as plt\n",
    "import datetime\n",
    "import numpy as np\n"
   ]
  },
  {
   "cell_type": "code",
   "execution_count": 2,
   "metadata": {},
   "outputs": [],
   "source": [
    "%matplotlib inline\n"
   ]
  },
  {
   "cell_type": "code",
   "execution_count": 3,
   "metadata": {},
   "outputs": [
    {
     "data": {
      "text/plain": [
       "<matplotlib.figure.Figure at 0x1865d908>"
      ]
     },
     "metadata": {},
     "output_type": "display_data"
    }
   ],
   "source": [
    "plt.figure(figsize=(15,9))\n",
    "from matplotlib import font_manager, rc\n",
    "font_name = font_manager.FontProperties(fname=\"c:/Windows/Fonts/malgun.ttf\").get_name()\n",
    "rc('font', family=font_name)"
   ]
  },
  {
   "cell_type": "code",
   "execution_count": 4,
   "metadata": {},
   "outputs": [
    {
     "name": "stdout",
     "output_type": "stream",
     "text": [
      "2019-06-20\n"
     ]
    }
   ],
   "source": [
    "today = date.today()\n",
    "startday = date.today() - timedelta(720)\n",
    "yesterday = date.today() - timedelta(1)\n",
    "#startday = '3/14/2014'\n",
    "#yesterday = '4/14/2016'\n",
    "print(yesterday)\n"
   ]
  },
  {
   "cell_type": "code",
   "execution_count": 5,
   "metadata": {},
   "outputs": [
    {
     "data": {
      "text/html": [
       "<div>\n",
       "<style scoped>\n",
       "    .dataframe tbody tr th:only-of-type {\n",
       "        vertical-align: middle;\n",
       "    }\n",
       "\n",
       "    .dataframe tbody tr th {\n",
       "        vertical-align: top;\n",
       "    }\n",
       "\n",
       "    .dataframe thead th {\n",
       "        text-align: right;\n",
       "    }\n",
       "</style>\n",
       "<table border=\"1\" class=\"dataframe\">\n",
       "  <thead>\n",
       "    <tr style=\"text-align: right;\">\n",
       "      <th></th>\n",
       "      <th>Open</th>\n",
       "      <th>High</th>\n",
       "      <th>Low</th>\n",
       "      <th>Close</th>\n",
       "      <th>Volume</th>\n",
       "      <th>Change</th>\n",
       "    </tr>\n",
       "    <tr>\n",
       "      <th>Date</th>\n",
       "      <th></th>\n",
       "      <th></th>\n",
       "      <th></th>\n",
       "      <th></th>\n",
       "      <th></th>\n",
       "      <th></th>\n",
       "    </tr>\n",
       "  </thead>\n",
       "  <tbody>\n",
       "    <tr>\n",
       "      <th>2017-07-03</th>\n",
       "      <td>291000</td>\n",
       "      <td>291500</td>\n",
       "      <td>276000</td>\n",
       "      <td>280500</td>\n",
       "      <td>511043</td>\n",
       "      <td>-0.039384</td>\n",
       "    </tr>\n",
       "    <tr>\n",
       "      <th>2017-07-04</th>\n",
       "      <td>282000</td>\n",
       "      <td>291000</td>\n",
       "      <td>278000</td>\n",
       "      <td>289000</td>\n",
       "      <td>416925</td>\n",
       "      <td>0.030303</td>\n",
       "    </tr>\n",
       "    <tr>\n",
       "      <th>2017-07-05</th>\n",
       "      <td>291500</td>\n",
       "      <td>292000</td>\n",
       "      <td>285000</td>\n",
       "      <td>289000</td>\n",
       "      <td>177422</td>\n",
       "      <td>0.000000</td>\n",
       "    </tr>\n",
       "    <tr>\n",
       "      <th>2017-07-06</th>\n",
       "      <td>290000</td>\n",
       "      <td>297500</td>\n",
       "      <td>288500</td>\n",
       "      <td>289500</td>\n",
       "      <td>273210</td>\n",
       "      <td>0.001730</td>\n",
       "    </tr>\n",
       "    <tr>\n",
       "      <th>2017-07-07</th>\n",
       "      <td>288500</td>\n",
       "      <td>294500</td>\n",
       "      <td>285500</td>\n",
       "      <td>290500</td>\n",
       "      <td>175545</td>\n",
       "      <td>0.003454</td>\n",
       "    </tr>\n",
       "  </tbody>\n",
       "</table>\n",
       "</div>"
      ],
      "text/plain": [
       "              Open    High     Low   Close  Volume    Change\n",
       "Date                                                        \n",
       "2017-07-03  291000  291500  276000  280500  511043 -0.039384\n",
       "2017-07-04  282000  291000  278000  289000  416925  0.030303\n",
       "2017-07-05  291500  292000  285000  289000  177422  0.000000\n",
       "2017-07-06  290000  297500  288500  289500  273210  0.001730\n",
       "2017-07-07  288500  294500  285500  290500  175545  0.003454"
      ]
     },
     "execution_count": 5,
     "metadata": {},
     "output_type": "execute_result"
    }
   ],
   "source": [
    "SEC=web.DataReader(\"207940\",startday,yesterday)\n",
    "SEC.head()"
   ]
  },
  {
   "cell_type": "code",
   "execution_count": 6,
   "metadata": {},
   "outputs": [
    {
     "name": "stdout",
     "output_type": "stream",
     "text": [
      "              Open    High     Low   Close  Volume    Change\n",
      "Date                                                        \n",
      "2019-06-14  316500  316500  312000  313000   67881 -0.011058\n",
      "2019-06-17  311500  314000  308000  309000   36986 -0.012780\n",
      "2019-06-18  309500  316000  309500  314000   68834  0.016181\n",
      "2019-06-19  316000  318000  313000  315000   51459  0.003185\n",
      "2019-06-20  315500  317500  315000  317000   46507  0.006349\n"
     ]
    },
    {
     "data": {
      "image/png": "[encoded data removed]",
      "text/plain": [
       "<matplotlib.figure.Figure at 0x1aa12908>"
      ]
     },
     "metadata": {},
     "output_type": "display_data"
    }
   ],
   "source": [
    "SEC = web.DataReader(\"207940\", startday, yesterday)\n",
    "#SEC = web.get_data_yahoo(\"005930.KS\", startday, yesterday)\n",
    "print(SEC.tail())\n",
    "SEC['Close'].plot(figsize=(16,4))\n",
    "plt.show()\n"
   ]
  },
  {
   "cell_type": "code",
   "execution_count": 7,
   "metadata": {},
   "outputs": [
    {
     "data": {
      "text/plain": [
       "Date\n",
       "2018-04-02    486000\n",
       "2018-04-03    485500\n",
       "2018-04-04    503000\n",
       "2018-04-05    502000\n",
       "2018-04-06    519000\n",
       "Name: Close, dtype: int64"
      ]
     },
     "execution_count": 7,
     "metadata": {},
     "output_type": "execute_result"
    },
    {
     "data": {
      "text/plain": [
       "<matplotlib.figure.Figure at 0x1863d4a8>"
      ]
     },
     "metadata": {},
     "output_type": "display_data"
    }
   ],
   "source": [
    "%matplotlib inline\n",
    "plt.figure(figsize=(15,9))\n",
    "today = date.today()\n",
    "startday = date(2018,4,1)\n",
    "endday = date(2018,6,27)\n",
    "SEC = web.DataReader(\"207940\", startday, endday)\n",
    "SEC = SEC[SEC['Volume'] != 0]\n",
    "SEC['Close'].head()\n"
   ]
  },
  {
   "cell_type": "code",
   "execution_count": 8,
   "metadata": {},
   "outputs": [
    {
     "data": {
      "text/html": [
       "<div>\n",
       "<style scoped>\n",
       "    .dataframe tbody tr th:only-of-type {\n",
       "        vertical-align: middle;\n",
       "    }\n",
       "\n",
       "    .dataframe tbody tr th {\n",
       "        vertical-align: top;\n",
       "    }\n",
       "\n",
       "    .dataframe thead th {\n",
       "        text-align: right;\n",
       "    }\n",
       "</style>\n",
       "<table border=\"1\" class=\"dataframe\">\n",
       "  <thead>\n",
       "    <tr style=\"text-align: right;\">\n",
       "      <th></th>\n",
       "      <th>Open</th>\n",
       "      <th>High</th>\n",
       "      <th>Low</th>\n",
       "      <th>Close</th>\n",
       "      <th>Volume</th>\n",
       "      <th>Change</th>\n",
       "      <th>Rate</th>\n",
       "    </tr>\n",
       "    <tr>\n",
       "      <th>Date</th>\n",
       "      <th></th>\n",
       "      <th></th>\n",
       "      <th></th>\n",
       "      <th></th>\n",
       "      <th></th>\n",
       "      <th></th>\n",
       "      <th></th>\n",
       "    </tr>\n",
       "  </thead>\n",
       "  <tbody>\n",
       "    <tr>\n",
       "      <th>2018-04-02</th>\n",
       "      <td>487000</td>\n",
       "      <td>490000</td>\n",
       "      <td>482500</td>\n",
       "      <td>486000</td>\n",
       "      <td>91013</td>\n",
       "      <td>-0.002053</td>\n",
       "      <td>NaN</td>\n",
       "    </tr>\n",
       "    <tr>\n",
       "      <th>2018-04-03</th>\n",
       "      <td>484000</td>\n",
       "      <td>489500</td>\n",
       "      <td>480000</td>\n",
       "      <td>485500</td>\n",
       "      <td>127515</td>\n",
       "      <td>-0.001029</td>\n",
       "      <td>-0.001029</td>\n",
       "    </tr>\n",
       "    <tr>\n",
       "      <th>2018-04-04</th>\n",
       "      <td>490000</td>\n",
       "      <td>505000</td>\n",
       "      <td>486000</td>\n",
       "      <td>503000</td>\n",
       "      <td>305367</td>\n",
       "      <td>0.036045</td>\n",
       "      <td>0.035411</td>\n",
       "    </tr>\n",
       "    <tr>\n",
       "      <th>2018-04-05</th>\n",
       "      <td>501000</td>\n",
       "      <td>505000</td>\n",
       "      <td>496500</td>\n",
       "      <td>502000</td>\n",
       "      <td>193001</td>\n",
       "      <td>-0.001988</td>\n",
       "      <td>-0.001990</td>\n",
       "    </tr>\n",
       "    <tr>\n",
       "      <th>2018-04-06</th>\n",
       "      <td>509000</td>\n",
       "      <td>534000</td>\n",
       "      <td>508000</td>\n",
       "      <td>519000</td>\n",
       "      <td>294164</td>\n",
       "      <td>0.033865</td>\n",
       "      <td>0.033304</td>\n",
       "    </tr>\n",
       "  </tbody>\n",
       "</table>\n",
       "</div>"
      ],
      "text/plain": [
       "              Open    High     Low   Close  Volume    Change      Rate\n",
       "Date                                                                  \n",
       "2018-04-02  487000  490000  482500  486000   91013 -0.002053       NaN\n",
       "2018-04-03  484000  489500  480000  485500  127515 -0.001029 -0.001029\n",
       "2018-04-04  490000  505000  486000  503000  305367  0.036045  0.035411\n",
       "2018-04-05  501000  505000  496500  502000  193001 -0.001988 -0.001990\n",
       "2018-04-06  509000  534000  508000  519000  294164  0.033865  0.033304"
      ]
     },
     "execution_count": 8,
     "metadata": {},
     "output_type": "execute_result"
    }
   ],
   "source": [
    "# 1 씩 shift\n",
    "SEC['Close'].shift(1).head()\n",
    "# 수익률 계산\n",
    "SEC['Rate'] = np.log( SEC['Close'].astype(float) / SEC['Close'].shift(1).astype(float))\n",
    "SEC.head()\n"
   ]
  },
  {
   "cell_type": "code",
   "execution_count": 9,
   "metadata": {},
   "outputs": [],
   "source": [
    "import urllib.parse\n",
    "import pandas as pd\n"
   ]
  },
  {
   "cell_type": "code",
   "execution_count": 10,
   "metadata": {},
   "outputs": [],
   "source": [
    "MARKET_CODE_DICT = {\n",
    "    'kospi': 'stockMkt',\n",
    "    'kosdaq': 'kosdaqMkt',\n",
    "    'konex': 'konexMkt'\n",
    "}\n",
    "DOWNLOAD_URL = 'https://kind.krx.co.kr/corpgeneral/corpList.do'\n"
   ]
  },
  {
   "cell_type": "code",
   "execution_count": 11,
   "metadata": {},
   "outputs": [],
   "source": [
    "def zeroFill(columnValue):\n",
    "    columnValue = str(columnValue)\n",
    "    outValue = columnValue.zfill(6)\n",
    "    return outValue\n"
   ]
  },
  {
   "cell_type": "code",
   "execution_count": 12,
   "metadata": {},
   "outputs": [],
   "source": [
    "def get_stock_codes(market=None, delisted=False):\n",
    "    params = {'method': 'download'}\n",
    "\n",
    "    if market.lower() in MARKET_CODE_DICT:\n",
    "        ## marketType 키 추가\n",
    "        params['marketType'] = MARKET_CODE_DICT[market]\n",
    "        print(market.lower()+\" market key is exist\")\n",
    "    else:\n",
    "        #params['searchType'] = 13\n",
    "        print(\"invalid market\")\n",
    "\n",
    "    # make url  key=value & key = value\n",
    "    params_string = urllib.parse.urlencode(params)\n",
    "    request_url = DOWNLOAD_URL+\"?\"+params_string\n",
    "\n",
    "    df = pd.read_html(request_url, header=0)[0]\n",
    "    df[\"종목코드\"] = df.종목코드.apply(zeroFill)\n",
    "\n",
    "    return df"
   ]
  },
  {
   "cell_type": "code",
   "execution_count": 13,
   "metadata": {
    "scrolled": true
   },
   "outputs": [
    {
     "name": "stdout",
     "output_type": "stream",
     "text": [
      "kospi market key is exist\n"
     ]
    },
    {
     "data": {
      "text/html": [
       "<div>\n",
       "<style scoped>\n",
       "    .dataframe tbody tr th:only-of-type {\n",
       "        vertical-align: middle;\n",
       "    }\n",
       "\n",
       "    .dataframe tbody tr th {\n",
       "        vertical-align: top;\n",
       "    }\n",
       "\n",
       "    .dataframe thead th {\n",
       "        text-align: right;\n",
       "    }\n",
       "</style>\n",
       "<table border=\"1\" class=\"dataframe\">\n",
       "  <thead>\n",
       "    <tr style=\"text-align: right;\">\n",
       "      <th></th>\n",
       "      <th>회사명</th>\n",
       "      <th>종목코드</th>\n",
       "      <th>업종</th>\n",
       "      <th>주요제품</th>\n",
       "      <th>상장일</th>\n",
       "      <th>결산월</th>\n",
       "      <th>대표자명</th>\n",
       "      <th>홈페이지</th>\n",
       "      <th>지역</th>\n",
       "    </tr>\n",
       "  </thead>\n",
       "  <tbody>\n",
       "    <tr>\n",
       "      <th>0</th>\n",
       "      <td>JS전선</td>\n",
       "      <td>005560</td>\n",
       "      <td>절연선 및 케이블 제조업</td>\n",
       "      <td>선박선,고무선,전력선,통신선 제조</td>\n",
       "      <td>2007-11-12</td>\n",
       "      <td>12월</td>\n",
       "      <td>이익희</td>\n",
       "      <td>http://www.jscable.co.kr</td>\n",
       "      <td>충청남도</td>\n",
       "    </tr>\n",
       "    <tr>\n",
       "      <th>1</th>\n",
       "      <td>거북선2호</td>\n",
       "      <td>101380</td>\n",
       "      <td>NaN</td>\n",
       "      <td>운송장비(선박) 임대</td>\n",
       "      <td>2008-04-25</td>\n",
       "      <td>12월</td>\n",
       "      <td>신주선</td>\n",
       "      <td>NaN</td>\n",
       "      <td>부산광역시</td>\n",
       "    </tr>\n",
       "  </tbody>\n",
       "</table>\n",
       "</div>"
      ],
      "text/plain": [
       "     회사명    종목코드             업종                주요제품         상장일  결산월 대표자명  \\\n",
       "0   JS전선  005560  절연선 및 케이블 제조업  선박선,고무선,전력선,통신선 제조  2007-11-12  12월  이익희   \n",
       "1  거북선2호  101380            NaN         운송장비(선박) 임대  2008-04-25  12월  신주선   \n",
       "\n",
       "                       홈페이지     지역  \n",
       "0  http://www.jscable.co.kr   충청남도  \n",
       "1                       NaN  부산광역시  "
      ]
     },
     "execution_count": 13,
     "metadata": {},
     "output_type": "execute_result"
    }
   ],
   "source": [
    "stocks = get_stock_codes('kospi')\n",
    "stocks.head(2)\n"
   ]
  },
  {
   "cell_type": "code",
   "execution_count": 14,
   "metadata": {},
   "outputs": [
    {
     "name": "stdout",
     "output_type": "stream",
     "text": [
      "Enter a  stock_name:CJ제일제당\n"
     ]
    }
   ],
   "source": [
    "mystock=input(\"Enter a  stock_name:\")\n"
   ]
  },
  {
   "cell_type": "code",
   "execution_count": 15,
   "metadata": {
    "scrolled": true
   },
   "outputs": [
    {
     "data": {
      "text/html": [
       "<div>\n",
       "<style scoped>\n",
       "    .dataframe tbody tr th:only-of-type {\n",
       "        vertical-align: middle;\n",
       "    }\n",
       "\n",
       "    .dataframe tbody tr th {\n",
       "        vertical-align: top;\n",
       "    }\n",
       "\n",
       "    .dataframe thead th {\n",
       "        text-align: right;\n",
       "    }\n",
       "</style>\n",
       "<table border=\"1\" class=\"dataframe\">\n",
       "  <thead>\n",
       "    <tr style=\"text-align: right;\">\n",
       "      <th></th>\n",
       "      <th>회사명</th>\n",
       "      <th>종목코드</th>\n",
       "    </tr>\n",
       "  </thead>\n",
       "  <tbody>\n",
       "    <tr>\n",
       "      <th>799</th>\n",
       "      <td>CJ제일제당</td>\n",
       "      <td>097950</td>\n",
       "    </tr>\n",
       "  </tbody>\n",
       "</table>\n",
       "</div>"
      ],
      "text/plain": [
       "        회사명    종목코드\n",
       "799  CJ제일제당  097950"
      ]
     },
     "execution_count": 15,
     "metadata": {},
     "output_type": "execute_result"
    }
   ],
   "source": [
    "stock_codeDF=stocks[(stocks.회사명==mystock)][['회사명','종목코드']]\n",
    "\n",
    "stock_codeDF"
   ]
  },
  {
   "cell_type": "code",
   "execution_count": 16,
   "metadata": {},
   "outputs": [
    {
     "name": "stdout",
     "output_type": "stream",
     "text": [
      "CJ제일제당\n",
      "097950\n"
     ]
    }
   ],
   "source": [
    "stock_code = stock_codeDF.iloc[0]['종목코드']\n",
    "stock_name = stock_codeDF.iloc[0]['회사명']\n",
    "print(stock_name)\n",
    "print(stock_code)\n"
   ]
  }
 ],
 "metadata": {
  "kernelspec": {
   "display_name": "Python 3",
   "language": "python",
   "name": "python3"
  },
  "language_info": {
   "codemirror_mode": {
    "name": "ipython",
    "version": 3
   },
   "file_extension": ".py",
   "mimetype": "text/x-python",
   "name": "python",
   "nbconvert_exporter": "python",
   "pygments_lexer": "ipython3",
   "version": "3.6.4"
  }
 },
 "nbformat": 4,
 "nbformat_minor": 2
}
