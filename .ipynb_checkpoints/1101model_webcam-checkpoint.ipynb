{
 "cells": [
  {
   "cell_type": "markdown",
   "metadata": {},
   "source": [
    "###  1.라이브러리 선언"
   ]
  },
  {
   "cell_type": "code",
   "execution_count": 1,
   "metadata": {},
   "outputs": [
    {
     "name": "stdout",
     "output_type": "stream",
     "text": [
      "Using matplotlib backend: Qt5Agg\n"
     ]
    }
   ],
   "source": [
    "import pandas as pd\n",
    "import numpy as np\n",
    "import cv2\n",
    "import matplotlib.pyplot as plt\n",
    "%matplotlib"
   ]
  },
  {
   "cell_type": "markdown",
   "metadata": {},
   "source": [
    "###  2. 이미지 전처리 함수 선언"
   ]
  },
  {
   "cell_type": "code",
   "execution_count": 2,
   "metadata": {},
   "outputs": [],
   "source": [
    "sample = cv2.imread(\"./image/image2.JPG\",cv2.IMREAD_COLOR)"
   ]
  },
  {
   "cell_type": "code",
   "execution_count": 3,
   "metadata": {},
   "outputs": [],
   "source": [
    "def imgRefining(inputImage):\n",
    "    IMG_SIZE =28\n",
    "\n",
    "    ## 1.그레이 컬러 변경\n",
    "    sample_cvtColor = cv2.cvtColor(inputImage, cv2.COLOR_BGR2GRAY)\n",
    "    sample_cvtSize = cv2.resize(sample_cvtColor,(IMG_SIZE,IMG_SIZE))\n",
    "    sample_cvtNorm = sample_cvtSize.astype(float)/255.0\n",
    "    sample_cvtShape = sample_cvtNorm.reshape(1,IMG_SIZE,IMG_SIZE,1)\n",
    "    \n",
    "    return sample_cvtShape"
   ]
  },
  {
   "cell_type": "markdown",
   "metadata": {},
   "source": [
    "###  3. 모델 불러오기"
   ]
  },
  {
   "cell_type": "code",
   "execution_count": 4,
   "metadata": {},
   "outputs": [
    {
     "name": "stdout",
     "output_type": "stream",
     "text": [
      "WARNING:tensorflow:Large dropout rate: 0.8 (>0.5). In TensorFlow 2.x, dropout() uses dropout rate instead of keep_prob. Please ensure that this is intended.\n",
      "Model: \"sequential\"\n",
      "_________________________________________________________________\n",
      "Layer (type)                 Output Shape              Param #   \n",
      "=================================================================\n",
      "conv2d (Conv2D)              (None, 28, 28, 32)        320       \n",
      "_________________________________________________________________\n",
      "max_pooling2d (MaxPooling2D) (None, 14, 14, 32)        0         \n",
      "_________________________________________________________________\n",
      "conv2d_1 (Conv2D)            (None, 14, 14, 32)        9248      \n",
      "_________________________________________________________________\n",
      "max_pooling2d_1 (MaxPooling2 (None, 7, 7, 32)          0         \n",
      "_________________________________________________________________\n",
      "flatten (Flatten)            (None, 1568)              0         \n",
      "_________________________________________________________________\n",
      "dropout (Dropout)            (None, 1568)              0         \n",
      "_________________________________________________________________\n",
      "dense (Dense)                (None, 10)                15690     \n",
      "=================================================================\n",
      "Total params: 25,258\n",
      "Trainable params: 25,258\n",
      "Non-trainable params: 0\n",
      "_________________________________________________________________\n"
     ]
    }
   ],
   "source": [
    "from tensorflow.keras.models import model_from_json\n",
    "\n",
    "json_file = open(\"d:/model_mnist_kopo.json\",\"r\")\n",
    "loaded_model_json = json_file.read()\n",
    "json_file.close()\n",
    "\n",
    "loaded_model = model_from_json(loaded_model_json)\n",
    "\n",
    "loaded_model.summary()\n",
    "\n",
    "loaded_model.load_weights(\"d:/model_mnist_kopo_weight.h5\")"
   ]
  },
  {
   "cell_type": "markdown",
   "metadata": {},
   "source": [
    "###  4. 이미지 캡쳐"
   ]
  },
  {
   "cell_type": "code",
   "execution_count": 13,
   "metadata": {},
   "outputs": [],
   "source": [
    "cap = cv2.VideoCapture(0)"
   ]
  },
  {
   "cell_type": "code",
   "execution_count": 14,
   "metadata": {},
   "outputs": [
    {
     "name": "stdout",
     "output_type": "stream",
     "text": [
      "640.0 480.0\n"
     ]
    }
   ],
   "source": [
    "width = cap.get(cv2.CAP_PROP_FRAME_WIDTH)\n",
    "height = cap.get(cv2.CAP_PROP_FRAME_HEIGHT)\n",
    "                 \n",
    "print(width,height)"
   ]
  },
  {
   "cell_type": "code",
   "execution_count": 15,
   "metadata": {},
   "outputs": [],
   "source": [
    "CAP_SIZE =150"
   ]
  },
  {
   "cell_type": "code",
   "execution_count": 16,
   "metadata": {},
   "outputs": [],
   "source": [
    "while True :\n",
    "    ret, colorFrame = cap.read()\n",
    "    \n",
    "    if ret == False:\n",
    "        break\n",
    "    x1=int(width/2 - CAP_SIZE/2)\n",
    "    y1=int(height/2 - CAP_SIZE/2)\n",
    "    x2=int(width/2 + CAP_SIZE/2)\n",
    "    y2=int(height/2 + CAP_SIZE/2)\n",
    "    \n",
    "    cv2.rectangle(colorFrame,(x1,y1),(x2,y2),(0,0,255),3)\n",
    "    \n",
    "    inputFrame = colorFrame.copy() ## 예측할때 예측용\n",
    "    refinedImag=imgRefining(img_roi)\n",
    "    predictValue=np.argmax(loaded_model.predict(refinedImag))\n",
    "    try :\n",
    "        cv2.putText(colorFrame,str(predictValue),(x1,y1-10),cv2.FONT_HERSHEY_SIMPLEX,1,(0,255,255),3)\n",
    "    except Exception as e:\n",
    "        print(e)\n",
    "        pass\n",
    "   \n",
    "    cv2.imshow(\"webcam\",colorFrame)\n",
    "   \n",
    "    img_roi = colorFrame[y1:y1+CAP_SIZE, x1:x1+CAP_SIZE]\n",
    "    \n",
    "    k = cv2.waitKey(33) ## 33ms 마다 이미지\n",
    "\n",
    "    \n",
    "  \n",
    "    \n",
    "    if k==27 :#esc key:\n",
    "        cap.release()\n",
    "        cv2.destroyAllWindows()\n",
    "    elif k==32 : #space bar key 캡쳐가됨\n",
    "  \n",
    "        print(predictValue)\n",
    "        cv2.imwrite(\"d:/cap_test.jpg\",img_roi)\n",
    "cap.release()\n",
    "cv2.destroyAllWindows()\n",
    "    "
   ]
  },
  {
   "cell_type": "markdown",
   "metadata": {},
   "source": [
    "###  5. 캡쳐영역 설정"
   ]
  },
  {
   "cell_type": "markdown",
   "metadata": {},
   "source": [
    "###  6.예측"
   ]
  },
  {
   "cell_type": "code",
   "execution_count": null,
   "metadata": {},
   "outputs": [],
   "source": []
  }
 ],
 "metadata": {
  "kernelspec": {
   "display_name": "Python 3",
   "language": "python",
   "name": "python3"
  },
  "language_info": {
   "codemirror_mode": {
    "name": "ipython",
    "version": 3
   },
   "file_extension": ".py",
   "mimetype": "text/x-python",
   "name": "python",
   "nbconvert_exporter": "python",
   "pygments_lexer": "ipython3",
   "version": "3.7.3"
  }
 },
 "nbformat": 4,
 "nbformat_minor": 2
}
