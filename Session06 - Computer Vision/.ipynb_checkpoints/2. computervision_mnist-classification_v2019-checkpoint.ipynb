{
 "cells": [
  {
   "cell_type": "code",
   "execution_count": 1,
   "metadata": {},
   "outputs": [],
   "source": [
    "# from tensorflow.python.client import device_lib\n",
    "# print(device_lib.list_local_devices())"
   ]
  },
  {
   "cell_type": "markdown",
   "metadata": {},
   "source": [
    "# 1. 라이브러리 선언"
   ]
  },
  {
   "cell_type": "code",
   "execution_count": 1,
   "metadata": {},
   "outputs": [
    {
     "name": "stderr",
     "output_type": "stream",
     "text": [
      "C:\\Users\\SMART-14\\Anaconda3\\lib\\site-packages\\h5py\\__init__.py:36: FutureWarning: Conversion of the second argument of issubdtype from `float` to `np.floating` is deprecated. In future, it will be treated as `np.float64 == np.dtype(float).type`.\n",
      "  from ._conv import register_converters as _register_converters\n",
      "Using TensorFlow backend.\n"
     ]
    }
   ],
   "source": [
    "import keras"
   ]
  },
  {
   "cell_type": "code",
   "execution_count": 2,
   "metadata": {},
   "outputs": [],
   "source": [
    "import os ###원하는 패쓰 하나씩 확인\n",
    "import cv2\n",
    "import keras\n",
    "# 케라스 모델 생성 라이브러리\n",
    "from keras import models\n",
    "# 레이어 생성 라이브러리 (Dense: 입출력 연결)\n",
    "from keras import layers\n",
    "# 케라스 샘플데이터[mnist] 라이브러리 불러오기\n",
    "from keras.datasets import mnist\n",
    "# numpy 라이브러리\n",
    "import numpy as np\n",
    "from numpy import array\n",
    "# 케라스 카테고리 라이브러리\n",
    "from keras.utils import to_categorical\n",
    "#from sklearn.preprocessing import LabelEncoder\n",
    "#from sklearn.preprocessing import OneHotEncoder\n",
    "# 시각화 라이브러리\n",
    "import matplotlib.pyplot as plt\n",
    "%matplotlib inline"
   ]
  },
  {
   "cell_type": "markdown",
   "metadata": {},
   "source": [
    "# 2. 데이터 불러오기"
   ]
  },
  {
   "cell_type": "code",
   "execution_count": 4,
   "metadata": {},
   "outputs": [],
   "source": [
    "import cv2\n",
    "import os\n",
    "import numpy as np\n",
    "from numpy import array\n",
    "import matplotlib.pyplot as plt\n",
    "%matplotlib inline"
   ]
  },
  {
   "cell_type": "markdown",
   "metadata": {},
   "source": [
    "### 1. 훈련데이터 "
   ]
  },
  {
   "cell_type": "code",
   "execution_count": 5,
   "metadata": {},
   "outputs": [],
   "source": [
    "TRAIN_DIR = '../images/mnist/trainingSet/'\n",
    "train_folder_list = array(os.listdir(TRAIN_DIR))\n",
    "train_folder_list\n",
    "\n",
    "IMG_SIZE = 28\n",
    "train_images=[]\n",
    "train_labels=[]\n",
    "for index in range(len(train_folder_list)):\n",
    "    path = os.path.join(TRAIN_DIR, train_folder_list[index])\n",
    "    path = path + '/'\n",
    "    img_list = os.listdir(path)\n",
    "    for img in img_list:\n",
    "        img_path = os.path.join(path, img)\n",
    "        try:\n",
    "            img = cv2.imread(img_path, cv2.IMREAD_GRAYSCALE)\n",
    "            new_img = cv2.resize(img, (IMG_SIZE, IMG_SIZE))\n",
    "            train_images.append(new_img)\n",
    "            train_labels.append(index)\n",
    "        except:\n",
    "            pass"
   ]
  },
  {
   "cell_type": "markdown",
   "metadata": {},
   "source": [
    "### 2. 테스트 데이터 "
   ]
  },
  {
   "cell_type": "code",
   "execution_count": 6,
   "metadata": {},
   "outputs": [],
   "source": [
    "TEST_DIR = '../images/mnist/testSet/'\n",
    "test_folder_list = array(os.listdir(TEST_DIR))\n",
    "test_folder_list\n",
    "\n",
    "test_images=[]\n",
    "test_labels=[]\n",
    "for index in range(len(test_folder_list)):\n",
    "    path = os.path.join(TEST_DIR, test_folder_list[index])\n",
    "    path = path + '/'\n",
    "    img_list = os.listdir(path)\n",
    "    for img in img_list:\n",
    "        img_path = os.path.join(path, img)\n",
    "        img = cv2.imread(img_path, cv2.IMREAD_GRAYSCALE)\n",
    "        new_img = cv2.resize(img, (IMG_SIZE, IMG_SIZE))\n",
    "        test_images.append(new_img)\n",
    "        test_labels.append(index)"
   ]
  },
  {
   "cell_type": "markdown",
   "metadata": {},
   "source": [
    "### 3. 데이터셋 확인"
   ]
  },
  {
   "cell_type": "code",
   "execution_count": 7,
   "metadata": {},
   "outputs": [],
   "source": [
    "train_images = array(train_images)\n",
    "train_labels = array(train_labels)\n",
    "test_images = array(test_images)\n",
    "test_labels = array(test_labels)"
   ]
  },
  {
   "cell_type": "code",
   "execution_count": 8,
   "metadata": {},
   "outputs": [
    {
     "name": "stdout",
     "output_type": "stream",
     "text": [
      "Training data shape :  (42000, 28, 28) (42000,)\n",
      "Testing data shape :  (200, 28, 28) (200,)\n"
     ]
    }
   ],
   "source": [
    "print('Training data shape : ', train_images.shape, train_labels.shape)\n",
    "print('Testing data shape : ', test_images.shape, test_labels.shape)"
   ]
  },
  {
   "cell_type": "code",
   "execution_count": 9,
   "metadata": {},
   "outputs": [
    {
     "data": {
      "text/plain": [
       "array([0, 1, 2, 3, 4, 5, 6, 7, 8, 9])"
      ]
     },
     "execution_count": 9,
     "metadata": {},
     "output_type": "execute_result"
    }
   ],
   "source": [
    "np.unique(train_labels)"
   ]
  },
  {
   "cell_type": "code",
   "execution_count": 10,
   "metadata": {},
   "outputs": [
    {
     "name": "stdout",
     "output_type": "stream",
     "text": [
      "Total number of outputs :  10\n",
      "Output classes :  [0 1 2 3 4 5 6 7 8 9]\n"
     ]
    }
   ],
   "source": [
    " \n",
    "# 훈련데이터의 답지분류 범위 정의\n",
    "classes = np.unique(train_labels)\n",
    "nClasses = len(classes)\n",
    "print('Total number of outputs : ', nClasses)\n",
    "print('Output classes : ', classes)\n",
    " "
   ]
  },
  {
   "cell_type": "code",
   "execution_count": 11,
   "metadata": {},
   "outputs": [
    {
     "data": {
      "text/plain": [
       "Text(0.5, 1.0, 'label : 2')"
      ]
     },
     "execution_count": 11,
     "metadata": {},
     "output_type": "execute_result"
    },
    {
     "data": {
      "image/png": "[encoded data removed]",
      "text/plain": [
       "<Figure size 504x360 with 2 Axes>"
      ]
     },
     "metadata": {
      "needs_background": "light"
     },
     "output_type": "display_data"
    }
   ],
   "source": [
    "# 훈련/데이터 데이터 시각화\n",
    "plt.figure(figsize=[7,5])\n",
    "plt.subplot(121)\n",
    "plt.imshow(train_images[0], cmap='gray')\n",
    "plt.title(\"label : {}\".format(train_labels[0]))\n",
    "plt.subplot(122)\n",
    "plt.imshow(test_images[42], cmap='gray')\n",
    "plt.title(\"label : {}\".format(test_labels[42]))"
   ]
  },
  {
   "cell_type": "markdown",
   "metadata": {},
   "source": [
    "### 3-1. 이미지(28*28) 매트릭스 변환 (w,h,d)"
   ]
  },
  {
   "cell_type": "code",
   "execution_count": 12,
   "metadata": {},
   "outputs": [
    {
     "data": {
      "text/plain": [
       "(42000, 28, 28)"
      ]
     },
     "execution_count": 12,
     "metadata": {},
     "output_type": "execute_result"
    }
   ],
   "source": [
    "train_images.shape"
   ]
  },
  {
   "cell_type": "code",
   "execution_count": 13,
   "metadata": {},
   "outputs": [],
   "source": [
    "train_data = train_images.reshape(len(train_images), IMG_SIZE,IMG_SIZE)\n",
    "test_data = test_images.reshape(len(test_images), IMG_SIZE,IMG_SIZE)"
   ]
  },
  {
   "cell_type": "code",
   "execution_count": 14,
   "metadata": {},
   "outputs": [
    {
     "data": {
      "text/plain": [
       "(42000, 28, 28)"
      ]
     },
     "execution_count": 14,
     "metadata": {},
     "output_type": "execute_result"
    }
   ],
   "source": [
    "train_images.shape"
   ]
  },
  {
   "cell_type": "code",
   "execution_count": 15,
   "metadata": {},
   "outputs": [
    {
     "data": {
      "text/plain": [
       "(42000, 28, 28)"
      ]
     },
     "execution_count": 15,
     "metadata": {},
     "output_type": "execute_result"
    }
   ],
   "source": [
    "train_data.shape"
   ]
  },
  {
   "cell_type": "code",
   "execution_count": 16,
   "metadata": {},
   "outputs": [
    {
     "data": {
      "text/plain": [
       "array([ 0,  0,  0,  0,  0,  0,  0,  1,  5,  0, 12,  0, 16,  0,  0,  4,  0,\n",
       "        2,  8,  3,  0,  4,  8,  0,  0,  0,  0,  0], dtype=uint8)"
      ]
     },
     "execution_count": 16,
     "metadata": {},
     "output_type": "execute_result"
    }
   ],
   "source": [
    "train_images[0][1]"
   ]
  },
  {
   "cell_type": "markdown",
   "metadata": {},
   "source": [
    "### 3-2. float 타입변환 및 정규화"
   ]
  },
  {
   "cell_type": "code",
   "execution_count": 17,
   "metadata": {},
   "outputs": [],
   "source": [
    "train_data = train_data.astype('float')\n",
    "test_data = test_data.astype('float')\n",
    "\n",
    "train_data /= 255\n",
    "test_data /= 255"
   ]
  },
  {
   "cell_type": "markdown",
   "metadata": {},
   "source": [
    "### 3-3. 답지 분류형으로 변환"
   ]
  },
  {
   "cell_type": "code",
   "execution_count": 18,
   "metadata": {},
   "outputs": [],
   "source": [
    "from keras.utils import to_categorical"
   ]
  },
  {
   "cell_type": "code",
   "execution_count": 19,
   "metadata": {
    "scrolled": true
   },
   "outputs": [
    {
     "name": "stdout",
     "output_type": "stream",
     "text": [
      "Original label 0 :  2\n",
      "After conversion to categorical ( one-hot ) :  [0. 0. 1. 0. 0. 0. 0. 0. 0. 0.]\n"
     ]
    }
   ],
   "source": [
    "# Change the labels from integer to categorical data\n",
    "train_labels_one_hot = to_categorical(train_labels)\n",
    "test_labels_one_hot = to_categorical(test_labels)\n",
    " \n",
    "# Display the change for category label using one-hot encoding\n",
    "print('Original label 0 : ', train_labels[10000])\n",
    "print('After conversion to categorical ( one-hot ) : ', train_labels_one_hot[10000])"
   ]
  },
  {
   "cell_type": "code",
   "execution_count": 20,
   "metadata": {},
   "outputs": [],
   "source": [
    "from numpy import argmax"
   ]
  },
  {
   "cell_type": "code",
   "execution_count": 21,
   "metadata": {},
   "outputs": [
    {
     "data": {
      "text/plain": [
       "2"
      ]
     },
     "execution_count": 21,
     "metadata": {},
     "output_type": "execute_result"
    }
   ],
   "source": [
    "argmax(train_labels_one_hot[10000])"
   ]
  },
  {
   "cell_type": "code",
   "execution_count": 22,
   "metadata": {},
   "outputs": [
    {
     "name": "stderr",
     "output_type": "stream",
     "text": [
      "C:\\Users\\kopo\\Anaconda3\\lib\\site-packages\\sklearn\\preprocessing\\_encoders.py:414: FutureWarning: The handling of integer data will change in version 0.22. Currently, the categories are determined based on the range [0, max(values)], while in the future they will be determined based on the unique values.\n",
      "If you want the future behaviour and silence this warning, you can specify \"categories='auto'\".\n",
      "In case you used a LabelEncoder before this OneHotEncoder to convert the categories to integers, then you can now use the OneHotEncoder directly.\n",
      "  warnings.warn(msg, FutureWarning)\n"
     ]
    }
   ],
   "source": [
    "from sklearn.preprocessing import OneHotEncoder\n",
    "oe_label = OneHotEncoder()\n",
    "\n",
    "train_labels_t = train_labels.reshape(-1,1)\n",
    "test_labels_t = test_labels.reshape(-1,1)\n",
    "oe_label.fit(train_labels_t)\n",
    "train_labels_one_hot = oe_label.transform(train_labels_t).toarray()\n",
    "test_labels_one_hot = oe_label.transform(test_labels_t).toarray()"
   ]
  },
  {
   "cell_type": "code",
   "execution_count": 23,
   "metadata": {},
   "outputs": [
    {
     "name": "stdout",
     "output_type": "stream",
     "text": [
      "Original label 0 :  0\n",
      "After conversion to categorical ( one-hot ) :  [1. 0. 0. 0. 0. 0. 0. 0. 0. 0.]\n"
     ]
    }
   ],
   "source": [
    "# Display the change for category label using one-hot encoding\n",
    "print('Original label 0 : ', train_labels[2])\n",
    "print('After conversion to categorical ( one-hot ) : ', train_labels_one_hot[2])"
   ]
  },
  {
   "cell_type": "markdown",
   "metadata": {},
   "source": [
    "# 4. 케라스 모델 정의"
   ]
  },
  {
   "cell_type": "code",
   "execution_count": 24,
   "metadata": {},
   "outputs": [
    {
     "data": {
      "text/plain": [
       "(28, 28)"
      ]
     },
     "execution_count": 24,
     "metadata": {},
     "output_type": "execute_result"
    }
   ],
   "source": [
    "# 입력데이터 형태\n",
    "modelDim = train_data[0].shape\n",
    "modelDim"
   ]
  },
  {
   "cell_type": "code",
   "execution_count": 25,
   "metadata": {},
   "outputs": [],
   "source": [
    "import keras\n",
    "from keras import Sequential\n",
    "from keras.layers import Flatten, Dense"
   ]
  },
  {
   "cell_type": "code",
   "execution_count": 26,
   "metadata": {},
   "outputs": [
    {
     "name": "stderr",
     "output_type": "stream",
     "text": [
      "WARNING: Logging before flag parsing goes to stderr.\n",
      "W0917 16:45:16.221282 23824 deprecation_wrapper.py:119] From C:\\Users\\kopo\\Anaconda3\\lib\\site-packages\\keras\\backend\\tensorflow_backend.py:74: The name tf.get_default_graph is deprecated. Please use tf.compat.v1.get_default_graph instead.\n",
      "\n",
      "W0917 16:45:16.247214 23824 deprecation_wrapper.py:119] From C:\\Users\\kopo\\Anaconda3\\lib\\site-packages\\keras\\backend\\tensorflow_backend.py:517: The name tf.placeholder is deprecated. Please use tf.compat.v1.placeholder instead.\n",
      "\n",
      "W0917 16:45:16.265165 23824 deprecation_wrapper.py:119] From C:\\Users\\kopo\\Anaconda3\\lib\\site-packages\\keras\\backend\\tensorflow_backend.py:4138: The name tf.random_uniform is deprecated. Please use tf.random.uniform instead.\n",
      "\n"
     ]
    },
    {
     "name": "stdout",
     "output_type": "stream",
     "text": [
      "_________________________________________________________________\n",
      "Layer (type)                 Output Shape              Param #   \n",
      "=================================================================\n",
      "flatten_1 (Flatten)          (None, 784)               0         \n",
      "_________________________________________________________________\n",
      "dense_1 (Dense)              (None, 8)                 6280      \n",
      "_________________________________________________________________\n",
      "dense_2 (Dense)              (None, 10)                90        \n",
      "=================================================================\n",
      "Total params: 6,370\n",
      "Trainable params: 6,370\n",
      "Non-trainable params: 0\n",
      "_________________________________________________________________\n"
     ]
    }
   ],
   "source": [
    "# 입력데이터 형태\n",
    "modelDim = train_data[0].shape\n",
    "\n",
    "# 층 누적 기본형태\n",
    "model = Sequential()\n",
    "\n",
    "# 신경망의 첫 번째 레이어에서 입력 데이터 크기를 정의해야 합니다.\n",
    "model.add(Flatten(input_shape=modelDim))\n",
    "model.add(Dense(8, activation='relu'))\n",
    "model.add(Dense(nClasses, activation='softmax'))\n",
    "\n",
    "# model.summary()를 통해 모델을 살펴보세요.\n",
    "model.summary()"
   ]
  },
  {
   "cell_type": "code",
   "execution_count": 27,
   "metadata": {},
   "outputs": [
    {
     "data": {
      "image/png": "[encoded data removed]",
      "text/plain": [
       "<IPython.core.display.Image object>"
      ]
     },
     "execution_count": 27,
     "metadata": {
      "image/png": {
       "height": 196,
       "width": 180
      }
     },
     "output_type": "execute_result"
    }
   ],
   "source": [
    "# 모델 시각화\n",
    "from keras.utils import plot_model\n",
    "plot_model(model, to_file='model_plot.png', \n",
    "           show_shapes=True, \n",
    "           show_layer_names=True)\n",
    "from IPython.display import Image\n",
    "Image(retina=True, filename='model_plot.png')"
   ]
  },
  {
   "cell_type": "markdown",
   "metadata": {},
   "source": [
    "# 5. 케라스모델 훈련방법 설정"
   ]
  },
  {
   "cell_type": "code",
   "execution_count": 28,
   "metadata": {},
   "outputs": [
    {
     "name": "stderr",
     "output_type": "stream",
     "text": [
      "W0917 16:45:17.318373 23824 deprecation_wrapper.py:119] From C:\\Users\\kopo\\Anaconda3\\lib\\site-packages\\keras\\optimizers.py:790: The name tf.train.Optimizer is deprecated. Please use tf.compat.v1.train.Optimizer instead.\n",
      "\n",
      "W0917 16:45:17.350797 23824 deprecation_wrapper.py:119] From C:\\Users\\kopo\\Anaconda3\\lib\\site-packages\\keras\\backend\\tensorflow_backend.py:3295: The name tf.log is deprecated. Please use tf.math.log instead.\n",
      "\n"
     ]
    }
   ],
   "source": [
    "# Sequatial 방싱 케라스모델\n",
    "# 손실함수(LOSS): 훈련동안 최소화될 값 지표 (mse, categorical_crossentropy)\n",
    "# 손실함수를 기반으로 Neural Net 업데이터 결정 (mse, mae, accuracy)\n",
    "model.compile(optimizer='adam', \n",
    "              loss='categorical_crossentropy', \n",
    "              metrics=['accuracy'])"
   ]
  },
  {
   "cell_type": "markdown",
   "metadata": {},
   "source": [
    "# 6. 모델 훈련"
   ]
  },
  {
   "cell_type": "code",
   "execution_count": 29,
   "metadata": {},
   "outputs": [],
   "source": [
    "# from tensorflow.python.client import device_lib\n",
    "# print(device_lib.list_local_devices())"
   ]
  },
  {
   "cell_type": "code",
   "execution_count": 30,
   "metadata": {},
   "outputs": [
    {
     "name": "stdout",
     "output_type": "stream",
     "text": [
      "총 소요시간:  3.09e-05\n"
     ]
    }
   ],
   "source": [
    "import timeit\n",
    "start = timeit.default_timer()\n",
    "\n",
    "# 실행 코드\n",
    "\n",
    "stop = timeit.default_timer()\n",
    "print(\"총 소요시간: \", stop - start)"
   ]
  },
  {
   "cell_type": "code",
   "execution_count": 31,
   "metadata": {
    "scrolled": false
   },
   "outputs": [
    {
     "name": "stderr",
     "output_type": "stream",
     "text": [
      "W0917 16:45:19.431260 23824 deprecation.py:323] From C:\\Users\\kopo\\Anaconda3\\lib\\site-packages\\tensorflow\\python\\ops\\math_grad.py:1250: add_dispatch_support.<locals>.wrapper (from tensorflow.python.ops.array_ops) is deprecated and will be removed in a future version.\n",
      "Instructions for updating:\n",
      "Use tf.where in 2.0, which has the same broadcast rule as np.where\n",
      "W0917 16:45:19.603799 23824 deprecation_wrapper.py:119] From C:\\Users\\kopo\\Anaconda3\\lib\\site-packages\\keras\\backend\\tensorflow_backend.py:986: The name tf.assign_add is deprecated. Please use tf.compat.v1.assign_add instead.\n",
      "\n",
      "W0917 16:45:20.194239 23824 deprecation_wrapper.py:119] From C:\\Users\\kopo\\Anaconda3\\lib\\site-packages\\keras\\callbacks.py:850: The name tf.summary.merge_all is deprecated. Please use tf.compat.v1.summary.merge_all instead.\n",
      "\n",
      "W0917 16:45:20.195237 23824 deprecation_wrapper.py:119] From C:\\Users\\kopo\\Anaconda3\\lib\\site-packages\\keras\\callbacks.py:853: The name tf.summary.FileWriter is deprecated. Please use tf.compat.v1.summary.FileWriter instead.\n",
      "\n"
     ]
    },
    {
     "name": "stdout",
     "output_type": "stream",
     "text": [
      "Train on 33600 samples, validate on 8400 samples\n",
      "Epoch 1/20\n",
      "33600/33600 [==============================] - 4s 109us/step - loss: 0.4794 - acc: 0.8665 - val_loss: 11.7788 - val_acc: 0.0163\n",
      "Epoch 2/20\n",
      "33600/33600 [==============================] - 3s 97us/step - loss: 0.2098 - acc: 0.9401 - val_loss: 13.4499 - val_acc: 0.0167\n",
      "Epoch 3/20\n",
      "33600/33600 [==============================] - 3s 84us/step - loss: 0.1831 - acc: 0.9470 - val_loss: 14.2886 - val_acc: 0.0165\n",
      "Epoch 4/20\n",
      "33600/33600 [==============================] - 3s 78us/step - loss: 0.1701 - acc: 0.9504 - val_loss: 14.7716 - val_acc: 0.0165\n",
      "Epoch 5/20\n",
      "33600/33600 [==============================] - 3s 86us/step - loss: 0.1612 - acc: 0.9526 - val_loss: 15.1227 - val_acc: 0.0163\n",
      "Epoch 6/20\n",
      "33600/33600 [==============================] - 3s 90us/step - loss: 0.1542 - acc: 0.9557 - val_loss: 15.3263 - val_acc: 0.0167\n",
      "Epoch 7/20\n",
      "33600/33600 [==============================] - 2s 66us/step - loss: 0.1487 - acc: 0.9559 - val_loss: 15.4535 - val_acc: 0.0164\n",
      "Epoch 8/20\n",
      "33600/33600 [==============================] - 2s 60us/step - loss: 0.1452 - acc: 0.9575 - val_loss: 15.5976 - val_acc: 0.0163\n",
      "Epoch 9/20\n",
      "33600/33600 [==============================] - 2s 56us/step - loss: 0.1411 - acc: 0.9581 - val_loss: 15.6804 - val_acc: 0.0165\n",
      "Epoch 10/20\n",
      "33600/33600 [==============================] - 2s 54us/step - loss: 0.1366 - acc: 0.9597 - val_loss: 15.7351 - val_acc: 0.0168\n",
      "Epoch 11/20\n",
      "33600/33600 [==============================] - 2s 47us/step - loss: 0.1345 - acc: 0.9608 - val_loss: 15.7699 - val_acc: 0.0165\n",
      "Epoch 12/20\n",
      "33600/33600 [==============================] - 2s 58us/step - loss: 0.1323 - acc: 0.9607 - val_loss: 15.7955 - val_acc: 0.0167\n",
      "Epoch 13/20\n",
      "33600/33600 [==============================] - 2s 46us/step - loss: 0.1285 - acc: 0.9620 - val_loss: 15.8079 - val_acc: 0.0168\n",
      "Epoch 14/20\n",
      "33600/33600 [==============================] - 2s 54us/step - loss: 0.1268 - acc: 0.9627 - val_loss: 15.8203 - val_acc: 0.0167\n",
      "Epoch 15/20\n",
      "33600/33600 [==============================] - 2s 48us/step - loss: 0.1250 - acc: 0.9631 - val_loss: 15.8274 - val_acc: 0.0167\n",
      "Epoch 16/20\n",
      "33600/33600 [==============================] - 2s 55us/step - loss: 0.1225 - acc: 0.9641 - val_loss: 15.8291 - val_acc: 0.0169\n",
      "Epoch 17/20\n",
      "33600/33600 [==============================] - 2s 45us/step - loss: 0.1213 - acc: 0.9640 - val_loss: 15.8303 - val_acc: 0.0170\n",
      "Epoch 18/20\n",
      "33600/33600 [==============================] - 2s 49us/step - loss: 0.1197 - acc: 0.9644 - val_loss: 15.8331 - val_acc: 0.0167\n",
      "Epoch 19/20\n",
      "33600/33600 [==============================] - 2s 48us/step - loss: 0.1170 - acc: 0.9659 - val_loss: 15.8336 - val_acc: 0.0167\n",
      "Epoch 20/20\n",
      "33600/33600 [==============================] - 2s 51us/step - loss: 0.1159 - acc: 0.9650 - val_loss: 15.8333 - val_acc: 0.0170\n"
     ]
    }
   ],
   "source": [
    "from datetime import datetime\n",
    "now = datetime.now()\n",
    "date = now.strftime(\"%Y-%m-%d_%H%M\")\n",
    "save_dir = \"./logs_{}\".format(date)\n",
    "\n",
    "callbacks = [\n",
    "    \n",
    "    keras.callbacks.TensorBoard(\n",
    "    log_dir = save_dir,\n",
    "    write_graph=True,\n",
    "    write_images=True)\n",
    "    ,  \n",
    "    keras.callbacks.EarlyStopping(\n",
    "    monitor = 'val_acc', patience=10,\n",
    "    )\n",
    "]\n",
    "\n",
    "# 모델을 32개의 샘플씩 미니 배치를 만들어 20번의 에포크 동안 훈련\n",
    "history = model.fit(train_data, train_labels_one_hot, \n",
    "                    batch_size=32,\n",
    "                    epochs=20,\n",
    "                    validation_split=0.2,\n",
    "                    callbacks = callbacks)"
   ]
  },
  {
   "cell_type": "code",
   "execution_count": 70,
   "metadata": {},
   "outputs": [],
   "source": [
    "import pandas as pd"
   ]
  },
  {
   "cell_type": "code",
   "execution_count": 71,
   "metadata": {},
   "outputs": [
    {
     "data": {
      "text/html": [
       "<div>\n",
       "<style scoped>\n",
       "    .dataframe tbody tr th:only-of-type {\n",
       "        vertical-align: middle;\n",
       "    }\n",
       "\n",
       "    .dataframe tbody tr th {\n",
       "        vertical-align: top;\n",
       "    }\n",
       "\n",
       "    .dataframe thead th {\n",
       "        text-align: right;\n",
       "    }\n",
       "</style>\n",
       "<table border=\"1\" class=\"dataframe\">\n",
       "  <thead>\n",
       "    <tr style=\"text-align: right;\">\n",
       "      <th></th>\n",
       "      <th>val_loss</th>\n",
       "      <th>val_acc</th>\n",
       "      <th>loss</th>\n",
       "      <th>acc</th>\n",
       "    </tr>\n",
       "  </thead>\n",
       "  <tbody>\n",
       "    <tr>\n",
       "      <td>0</td>\n",
       "      <td>11.891000</td>\n",
       "      <td>0.016667</td>\n",
       "      <td>0.526771</td>\n",
       "      <td>0.841042</td>\n",
       "    </tr>\n",
       "    <tr>\n",
       "      <td>1</td>\n",
       "      <td>13.375523</td>\n",
       "      <td>0.016429</td>\n",
       "      <td>0.210596</td>\n",
       "      <td>0.939464</td>\n",
       "    </tr>\n",
       "    <tr>\n",
       "      <td>2</td>\n",
       "      <td>14.330588</td>\n",
       "      <td>0.016548</td>\n",
       "      <td>0.186171</td>\n",
       "      <td>0.945446</td>\n",
       "    </tr>\n",
       "    <tr>\n",
       "      <td>3</td>\n",
       "      <td>14.799863</td>\n",
       "      <td>0.016429</td>\n",
       "      <td>0.172977</td>\n",
       "      <td>0.949613</td>\n",
       "    </tr>\n",
       "    <tr>\n",
       "      <td>4</td>\n",
       "      <td>15.175645</td>\n",
       "      <td>0.016667</td>\n",
       "      <td>0.164859</td>\n",
       "      <td>0.951786</td>\n",
       "    </tr>\n",
       "    <tr>\n",
       "      <td>5</td>\n",
       "      <td>15.322422</td>\n",
       "      <td>0.016429</td>\n",
       "      <td>0.157821</td>\n",
       "      <td>0.954405</td>\n",
       "    </tr>\n",
       "    <tr>\n",
       "      <td>6</td>\n",
       "      <td>15.489749</td>\n",
       "      <td>0.016548</td>\n",
       "      <td>0.152630</td>\n",
       "      <td>0.954851</td>\n",
       "    </tr>\n",
       "    <tr>\n",
       "      <td>7</td>\n",
       "      <td>15.608482</td>\n",
       "      <td>0.016667</td>\n",
       "      <td>0.147568</td>\n",
       "      <td>0.956518</td>\n",
       "    </tr>\n",
       "    <tr>\n",
       "      <td>8</td>\n",
       "      <td>15.705397</td>\n",
       "      <td>0.016548</td>\n",
       "      <td>0.143838</td>\n",
       "      <td>0.957530</td>\n",
       "    </tr>\n",
       "    <tr>\n",
       "      <td>9</td>\n",
       "      <td>15.770339</td>\n",
       "      <td>0.016548</td>\n",
       "      <td>0.140030</td>\n",
       "      <td>0.958542</td>\n",
       "    </tr>\n",
       "    <tr>\n",
       "      <td>10</td>\n",
       "      <td>15.790822</td>\n",
       "      <td>0.016786</td>\n",
       "      <td>0.137486</td>\n",
       "      <td>0.958899</td>\n",
       "    </tr>\n",
       "    <tr>\n",
       "      <td>11</td>\n",
       "      <td>15.813168</td>\n",
       "      <td>0.016905</td>\n",
       "      <td>0.133216</td>\n",
       "      <td>0.960982</td>\n",
       "    </tr>\n",
       "    <tr>\n",
       "      <td>12</td>\n",
       "      <td>15.821351</td>\n",
       "      <td>0.016905</td>\n",
       "      <td>0.131061</td>\n",
       "      <td>0.961786</td>\n",
       "    </tr>\n",
       "    <tr>\n",
       "      <td>13</td>\n",
       "      <td>15.825286</td>\n",
       "      <td>0.017024</td>\n",
       "      <td>0.128737</td>\n",
       "      <td>0.962083</td>\n",
       "    </tr>\n",
       "    <tr>\n",
       "      <td>14</td>\n",
       "      <td>15.830516</td>\n",
       "      <td>0.016548</td>\n",
       "      <td>0.126643</td>\n",
       "      <td>0.962589</td>\n",
       "    </tr>\n",
       "    <tr>\n",
       "      <td>15</td>\n",
       "      <td>15.832013</td>\n",
       "      <td>0.016905</td>\n",
       "      <td>0.123254</td>\n",
       "      <td>0.964167</td>\n",
       "    </tr>\n",
       "    <tr>\n",
       "      <td>16</td>\n",
       "      <td>15.834081</td>\n",
       "      <td>0.016786</td>\n",
       "      <td>0.121599</td>\n",
       "      <td>0.964851</td>\n",
       "    </tr>\n",
       "    <tr>\n",
       "      <td>17</td>\n",
       "      <td>15.833806</td>\n",
       "      <td>0.016905</td>\n",
       "      <td>0.119538</td>\n",
       "      <td>0.965179</td>\n",
       "    </tr>\n",
       "    <tr>\n",
       "      <td>18</td>\n",
       "      <td>15.833698</td>\n",
       "      <td>0.017024</td>\n",
       "      <td>0.117856</td>\n",
       "      <td>0.964881</td>\n",
       "    </tr>\n",
       "    <tr>\n",
       "      <td>19</td>\n",
       "      <td>15.833803</td>\n",
       "      <td>0.016905</td>\n",
       "      <td>0.115271</td>\n",
       "      <td>0.965714</td>\n",
       "    </tr>\n",
       "  </tbody>\n",
       "</table>\n",
       "</div>"
      ],
      "text/plain": [
       "     val_loss   val_acc      loss       acc\n",
       "0   11.891000  0.016667  0.526771  0.841042\n",
       "1   13.375523  0.016429  0.210596  0.939464\n",
       "2   14.330588  0.016548  0.186171  0.945446\n",
       "3   14.799863  0.016429  0.172977  0.949613\n",
       "4   15.175645  0.016667  0.164859  0.951786\n",
       "5   15.322422  0.016429  0.157821  0.954405\n",
       "6   15.489749  0.016548  0.152630  0.954851\n",
       "7   15.608482  0.016667  0.147568  0.956518\n",
       "8   15.705397  0.016548  0.143838  0.957530\n",
       "9   15.770339  0.016548  0.140030  0.958542\n",
       "10  15.790822  0.016786  0.137486  0.958899\n",
       "11  15.813168  0.016905  0.133216  0.960982\n",
       "12  15.821351  0.016905  0.131061  0.961786\n",
       "13  15.825286  0.017024  0.128737  0.962083\n",
       "14  15.830516  0.016548  0.126643  0.962589\n",
       "15  15.832013  0.016905  0.123254  0.964167\n",
       "16  15.834081  0.016786  0.121599  0.964851\n",
       "17  15.833806  0.016905  0.119538  0.965179\n",
       "18  15.833698  0.017024  0.117856  0.964881\n",
       "19  15.833803  0.016905  0.115271  0.965714"
      ]
     },
     "execution_count": 71,
     "metadata": {},
     "output_type": "execute_result"
    }
   ],
   "source": [
    "pd.DataFrame(history.history)"
   ]
  },
  {
   "cell_type": "markdown",
   "metadata": {},
   "source": [
    "# 7. 모델 추론"
   ]
  },
  {
   "cell_type": "code",
   "execution_count": 34,
   "metadata": {},
   "outputs": [
    {
     "name": "stdout",
     "output_type": "stream",
     "text": [
      "200/200 [==============================] - 0s 95us/step\n",
      "3.32854268014431 0.775\n"
     ]
    }
   ],
   "source": [
    "# verbose: 정보표시 레벨 (0,1)\n",
    "test_loss, test_acc = model.evaluate(test_data, \n",
    "                                     test_labels_one_hot)\n",
    "print(test_loss, test_acc)\n"
   ]
  },
  {
   "cell_type": "markdown",
   "metadata": {},
   "source": [
    "# 8. 훈련내용 확인하기 (Tensorboard)"
   ]
  },
  {
   "cell_type": "markdown",
   "metadata": {},
   "source": [
    "# 9. 예측 및 비교"
   ]
  },
  {
   "cell_type": "code",
   "execution_count": 48,
   "metadata": {},
   "outputs": [
    {
     "data": {
      "text/plain": [
       "<matplotlib.image.AxesImage at 0x236f17e8908>"
      ]
     },
     "execution_count": 48,
     "metadata": {},
     "output_type": "execute_result"
    },
    {
     "data": {
      "image/png": "[encoded data removed]",
      "text/plain": [
       "<Figure size 432x288 with 1 Axes>"
      ]
     },
     "metadata": {
      "needs_background": "light"
     },
     "output_type": "display_data"
    }
   ],
   "source": [
    "prd_images = []\n",
    "imgpah=\"../images/mnist/testSet/5/img_24.jpg\"\n",
    "img = cv2.imread(imgpah, cv2.IMREAD_GRAYSCALE)\n",
    "prd_images.append(img)\n",
    "prd_images=array(prd_images)\n",
    "\n",
    "plt.imshow(img, cmap=\"gray\")"
   ]
  },
  {
   "cell_type": "code",
   "execution_count": 57,
   "metadata": {},
   "outputs": [],
   "source": [
    "test_data = prd_images.reshape(len(prd_images) , IMG_SIZE, IMG_SIZE)\n",
    "test_data = test_data.astype('float')\n",
    "test_data /= 255"
   ]
  },
  {
   "cell_type": "code",
   "execution_count": 58,
   "metadata": {},
   "outputs": [],
   "source": [
    "# Predict the most likely class\n",
    "label_pred = model.predict(test_data[[0],:])"
   ]
  },
  {
   "cell_type": "code",
   "execution_count": 59,
   "metadata": {},
   "outputs": [
    {
     "data": {
      "text/plain": [
       "array([[6.2127179e-04, 1.4492736e-09, 1.3350871e-06, 1.8702475e-06,\n",
       "        1.4132684e-08, 9.9937457e-01, 1.4239636e-09, 9.4714380e-07,\n",
       "        1.8930112e-14, 2.1316687e-14]], dtype=float32)"
      ]
     },
     "execution_count": 59,
     "metadata": {},
     "output_type": "execute_result"
    }
   ],
   "source": [
    "label_pred"
   ]
  },
  {
   "cell_type": "code",
   "execution_count": 60,
   "metadata": {},
   "outputs": [
    {
     "data": {
      "text/plain": [
       "5"
      ]
     },
     "execution_count": 60,
     "metadata": {},
     "output_type": "execute_result"
    }
   ],
   "source": [
    "np.argmax(label_pred)"
   ]
  },
  {
   "cell_type": "markdown",
   "metadata": {},
   "source": [
    "### 다른모델 생성 (과적합 회피)"
   ]
  },
  {
   "cell_type": "code",
   "execution_count": null,
   "metadata": {},
   "outputs": [],
   "source": [
    "model_reg = models.Sequential()\n",
    "model_reg.add(layers.Dense(512, activation='relu', input_shape=(dimData,)))\n",
    "model_reg.add(layers.Dropout(0.5))\n",
    "model_reg.add(layers.Dense(512, activation='relu'))\n",
    "model_reg.add(layers.Dropout(0.5))\n",
    "model_reg.add(layers.Dense(nClasses, activation='softmax'))"
   ]
  },
  {
   "cell_type": "code",
   "execution_count": null,
   "metadata": {},
   "outputs": [],
   "source": [
    "# Predict the most likely class\n",
    "label_pred = model.predict(test_data[[25],:])"
   ]
  },
  {
   "cell_type": "code",
   "execution_count": null,
   "metadata": {},
   "outputs": [],
   "source": [
    "label_pred"
   ]
  },
  {
   "cell_type": "markdown",
   "metadata": {},
   "source": [
    "### [실습]. fashion_mnist 데이터를 활용하여 신경망구조를 생성하고 훈련시켜보세요\n",
    "### keras.datasets.fashion_mnist.load_data()"
   ]
  },
  {
   "cell_type": "markdown",
   "metadata": {},
   "source": [
    "### [실습] 제공된 cat_dog 이미지 파일을 학습 후 cat / dog 이미지 분류기를 생성하세요\n"
   ]
  }
 ],
 "metadata": {
  "kernelspec": {
   "display_name": "Python 3",
   "language": "python",
   "name": "python3"
  },
  "language_info": {
   "codemirror_mode": {
    "name": "ipython",
    "version": 3
   },
   "file_extension": ".py",
   "mimetype": "text/x-python",
   "name": "python",
   "nbconvert_exporter": "python",
   "pygments_lexer": "ipython3",
   "version": "3.6.4"
  }
 },
 "nbformat": 4,
 "nbformat_minor": 2
}
